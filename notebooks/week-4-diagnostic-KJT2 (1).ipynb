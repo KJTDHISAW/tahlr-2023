{
 "cells": [
  {
   "cell_type": "markdown",
   "metadata": {},
   "source": [
    "# Week 4 Code Completion KJT "
   ]
  },
  {
   "cell_type": "markdown",
   "metadata": {},
   "source": [
    "<b> Create a new Jupyter notebook called ‘week-4-diagnostic-PJB’ (where you substitute your initials for PJB)\n",
    "Create a folder called ‘diagnostic’ in the folder ‘data/texts’\n",
    "Add two (2) text files to this folder\n",
    "In the Jupyter notebook…\n",
    "Read both files into memory [os.path or glob; open; read] and assign them to variables\n",
    "Tokenize this Python string from step (a) into words or characters, as appropriate  [split or tokenize], and assign to variables </b>\n",
    "If you tokenized into words in the previous step, tokenize the same string into characters [list or use a list comprehension]\n",
    "<b> Combine the two lists of tokens from step (b) and assign to a variable [+ operator with two lists]\n",
    "Make a frequency distribution of all tokens based on the variable from step (d) [FreqDist]f </b>\n",
    "Report results of frequency distribution from step (e) [tabulate]\n",
    "BONUS: Make a conditional frequency distribution from the two separate list of tokens from step (b) and report a comparative list of at least three (3) words/features [ConditionalFreqDist]\n",
    "Make a list of three (3) text tasks not used above that you feel you should be able to do at this point in the semester, but are unsure about how.\n"
   ]
  },
  {
   "cell_type": "markdown",
   "metadata": {},
   "source": [
    "## READ"
   ]
  },
  {
   "cell_type": "code",
   "execution_count": 81,
   "metadata": {
    "tags": []
   },
   "outputs": [],
   "source": [
    "import nltk\n",
    "import re\n",
    "from pprint import pprint\n",
    "from nltk import word_tokenize\n",
    "from nltk.probability import FreqDist\n",
    "from tabulate import tabulate\n",
    "from nltk.probability import ConditionalFreqDist\n",
    "from nltk.tokenize import word_tokenize\n",
    "from sklearn.feature_extraction.text import CountVectorizer\n",
    "import pandas as pd"
   ]
  },
  {
   "cell_type": "code",
   "execution_count": 88,
   "metadata": {
    "tags": []
   },
   "outputs": [],
   "source": [
    "with open('Plin_33.txt') as f:\n",
    "    p33_raw = f.read()"
   ]
  },
  {
   "cell_type": "code",
   "execution_count": 89,
   "metadata": {
    "tags": []
   },
   "outputs": [],
   "source": [
    "f = open('Plin_34.txt')\n",
    "p34_raw = f.read()\n",
    "f.close()"
   ]
  },
  {
   "cell_type": "code",
   "execution_count": 90,
   "metadata": {
    "tags": []
   },
   "outputs": [],
   "source": [
    "f = open('Plin_1.txt')\n",
    "p1_raw = f.read()\n",
    "f.close()"
   ]
  },
  {
   "cell_type": "code",
   "execution_count": 91,
   "metadata": {},
   "outputs": [],
   "source": [
    "f = open('Plin_35.txt')\n",
    "p35_raw = f.read()\n",
    "f.close()"
   ]
  },
  {
   "cell_type": "code",
   "execution_count": 92,
   "metadata": {},
   "outputs": [],
   "source": [
    "f = open('Plin_36.txt')\n",
    "p36_raw = f.read()\n",
    "f.close()"
   ]
  },
  {
   "cell_type": "code",
   "execution_count": 93,
   "metadata": {},
   "outputs": [],
   "source": [
    "f = open('Plin_37.txt')\n",
    "p37_raw = f.read()\n",
    "f.close()"
   ]
  },
  {
   "cell_type": "markdown",
   "metadata": {},
   "source": [
    "## TYPE AND LENGTH"
   ]
  },
  {
   "cell_type": "code",
   "execution_count": 110,
   "metadata": {
    "tags": []
   },
   "outputs": [
    {
     "data": {
      "text/plain": [
       "str"
      ]
     },
     "execution_count": 110,
     "metadata": {},
     "output_type": "execute_result"
    }
   ],
   "source": [
    "type(p33_raw)\n",
    "type(p34_raw)\n",
    "type(p1_raw)\n",
    "type(p35_raw)\n",
    "type(p36_raw)\n",
    "type(p37_raw)"
   ]
  },
  {
   "cell_type": "code",
   "execution_count": 8,
   "metadata": {
    "tags": []
   },
   "outputs": [
    {
     "data": {
      "text/plain": [
       "65479"
      ]
     },
     "execution_count": 8,
     "metadata": {},
     "output_type": "execute_result"
    }
   ],
   "source": [
    "len(p33_raw)"
   ]
  },
  {
   "cell_type": "code",
   "execution_count": 9,
   "metadata": {
    "tags": []
   },
   "outputs": [
    {
     "data": {
      "text/plain": [
       "72375"
      ]
     },
     "execution_count": 9,
     "metadata": {},
     "output_type": "execute_result"
    }
   ],
   "source": [
    "len(p34_raw)"
   ]
  },
  {
   "cell_type": "code",
   "execution_count": 10,
   "metadata": {
    "tags": []
   },
   "outputs": [
    {
     "data": {
      "text/plain": [
       "118675"
      ]
     },
     "execution_count": 10,
     "metadata": {},
     "output_type": "execute_result"
    }
   ],
   "source": [
    "len(p1_raw)"
   ]
  },
  {
   "cell_type": "code",
   "execution_count": 11,
   "metadata": {
    "tags": []
   },
   "outputs": [
    {
     "data": {
      "text/plain": [
       "'Liber XXXIII\\n   \\ni\\t  \\n1\\t\\nMetalla nunc ipsaeque opes et rerum pretia dicentu'"
      ]
     },
     "execution_count": 11,
     "metadata": {},
     "output_type": "execute_result"
    }
   ],
   "source": [
    "p33_raw[:75]"
   ]
  },
  {
   "cell_type": "code",
   "execution_count": 12,
   "metadata": {
    "tags": []
   },
   "outputs": [
    {
     "data": {
      "text/plain": [
       "'Liber XXXIV\\n\\n    \\ni\\t     \\n1\\t\\nProxime dicuntur aeris metalla, cui et in usu'"
      ]
     },
     "execution_count": 12,
     "metadata": {},
     "output_type": "execute_result"
    }
   ],
   "source": [
    "p34_raw[:74]"
   ]
  },
  {
   "cell_type": "code",
   "execution_count": 13,
   "metadata": {
    "tags": []
   },
   "outputs": [
    {
     "data": {
      "text/plain": [
       "'LIBRO II CONTINENTUR\\n\\n1\\t\\nAn finitus sit mundus et an unus\\n\\n2\\t\\nde forma ei'"
      ]
     },
     "execution_count": 13,
     "metadata": {},
     "output_type": "execute_result"
    }
   ],
   "source": [
    "p1_raw[:73]"
   ]
  },
  {
   "cell_type": "markdown",
   "metadata": {},
   "source": [
    "## TOKENIZATION"
   ]
  },
  {
   "cell_type": "markdown",
   "metadata": {},
   "source": [
    "Book 33"
   ]
  },
  {
   "cell_type": "code",
   "execution_count": 19,
   "metadata": {
    "tags": []
   },
   "outputs": [
    {
     "name": "stderr",
     "output_type": "stream",
     "text": [
      "[nltk_data] Downloading package punkt to\n",
      "[nltk_data]     /Users/katherinethomson/nltk_data...\n",
      "[nltk_data]   Unzipping tokenizers/punkt.zip.\n"
     ]
    }
   ],
   "source": [
    "nltk.download('punkt')\n",
    "\n",
    "tokens_33 = word_tokenize(p33_raw)"
   ]
  },
  {
   "cell_type": "code",
   "execution_count": 20,
   "metadata": {
    "tags": []
   },
   "outputs": [
    {
     "data": {
      "text/plain": [
       "list"
      ]
     },
     "execution_count": 20,
     "metadata": {},
     "output_type": "execute_result"
    }
   ],
   "source": [
    "type(tokens_33)"
   ]
  },
  {
   "cell_type": "code",
   "execution_count": 21,
   "metadata": {
    "tags": []
   },
   "outputs": [
    {
     "data": {
      "text/plain": [
       "10984"
      ]
     },
     "execution_count": 21,
     "metadata": {},
     "output_type": "execute_result"
    }
   ],
   "source": [
    "len(tokens_33)"
   ]
  },
  {
   "cell_type": "code",
   "execution_count": 22,
   "metadata": {
    "tags": []
   },
   "outputs": [
    {
     "name": "stdout",
     "output_type": "stream",
     "text": [
      "['Liber', 'XXXIII', 'i', '1', 'Metalla', 'nunc', 'ipsaeque', 'opes', 'et', 'rerum']\n"
     ]
    }
   ],
   "source": [
    "print(tokens_33[:10])"
   ]
  },
  {
   "cell_type": "markdown",
   "metadata": {},
   "source": [
    "Book 34"
   ]
  },
  {
   "cell_type": "code",
   "execution_count": 23,
   "metadata": {
    "tags": []
   },
   "outputs": [],
   "source": [
    "tokens_34 = word_tokenize(p34_raw)"
   ]
  },
  {
   "cell_type": "code",
   "execution_count": 24,
   "metadata": {
    "tags": []
   },
   "outputs": [
    {
     "data": {
      "text/plain": [
       "list"
      ]
     },
     "execution_count": 24,
     "metadata": {},
     "output_type": "execute_result"
    }
   ],
   "source": [
    "type(tokens_34)"
   ]
  },
  {
   "cell_type": "code",
   "execution_count": 25,
   "metadata": {
    "tags": []
   },
   "outputs": [
    {
     "data": {
      "text/plain": [
       "11978"
      ]
     },
     "execution_count": 25,
     "metadata": {},
     "output_type": "execute_result"
    }
   ],
   "source": [
    "len(tokens_34)"
   ]
  },
  {
   "cell_type": "code",
   "execution_count": 26,
   "metadata": {
    "tags": []
   },
   "outputs": [
    {
     "name": "stdout",
     "output_type": "stream",
     "text": [
      "['Liber', 'XXXIV', 'i', '1', 'Proxime', 'dicuntur', 'aeris', 'metalla', ',', 'cui']\n"
     ]
    }
   ],
   "source": [
    "print(tokens_34[:10])"
   ]
  },
  {
   "cell_type": "markdown",
   "metadata": {},
   "source": [
    "Book 1"
   ]
  },
  {
   "cell_type": "code",
   "execution_count": 27,
   "metadata": {
    "tags": []
   },
   "outputs": [],
   "source": [
    "tokens_1 = word_tokenize(p1_raw)"
   ]
  },
  {
   "cell_type": "code",
   "execution_count": 28,
   "metadata": {
    "tags": []
   },
   "outputs": [
    {
     "data": {
      "text/plain": [
       "list"
      ]
     },
     "execution_count": 28,
     "metadata": {},
     "output_type": "execute_result"
    }
   ],
   "source": [
    "type(tokens_1)"
   ]
  },
  {
   "cell_type": "code",
   "execution_count": 29,
   "metadata": {
    "tags": []
   },
   "outputs": [
    {
     "data": {
      "text/plain": [
       "21022"
      ]
     },
     "execution_count": 29,
     "metadata": {},
     "output_type": "execute_result"
    }
   ],
   "source": [
    "len(tokens_1)"
   ]
  },
  {
   "cell_type": "code",
   "execution_count": 30,
   "metadata": {
    "tags": []
   },
   "outputs": [
    {
     "name": "stdout",
     "output_type": "stream",
     "text": [
      "['LIBRO', 'II', 'CONTINENTUR', '1', 'An', 'finitus', 'sit', 'mundus', 'et', 'an']\n"
     ]
    }
   ],
   "source": [
    "print(tokens_1[:10])"
   ]
  },
  {
   "cell_type": "markdown",
   "metadata": {},
   "source": [
    "Book 35"
   ]
  },
  {
   "cell_type": "code",
   "execution_count": 95,
   "metadata": {},
   "outputs": [],
   "source": [
    "tokens_35 = word_tokenize(p35_raw)"
   ]
  },
  {
   "cell_type": "code",
   "execution_count": 96,
   "metadata": {},
   "outputs": [
    {
     "data": {
      "text/plain": [
       "13837"
      ]
     },
     "execution_count": 96,
     "metadata": {},
     "output_type": "execute_result"
    }
   ],
   "source": [
    "len(tokens_35)"
   ]
  },
  {
   "cell_type": "code",
   "execution_count": 97,
   "metadata": {},
   "outputs": [
    {
     "name": "stdout",
     "output_type": "stream",
     "text": [
      "['Liber', 'XXXV', 'i', '1', 'Metallorum', ',', 'quibus', 'opes', 'constant', ',']\n"
     ]
    }
   ],
   "source": [
    "print(tokens_35[:10])"
   ]
  },
  {
   "cell_type": "markdown",
   "metadata": {},
   "source": [
    "Book 36"
   ]
  },
  {
   "cell_type": "code",
   "execution_count": 98,
   "metadata": {},
   "outputs": [],
   "source": [
    "tokens_36 = word_tokenize(p36_raw)"
   ]
  },
  {
   "cell_type": "code",
   "execution_count": 99,
   "metadata": {},
   "outputs": [
    {
     "data": {
      "text/plain": [
       "13387"
      ]
     },
     "execution_count": 99,
     "metadata": {},
     "output_type": "execute_result"
    }
   ],
   "source": [
    "len(tokens_36)"
   ]
  },
  {
   "cell_type": "code",
   "execution_count": 100,
   "metadata": {},
   "outputs": [
    {
     "name": "stdout",
     "output_type": "stream",
     "text": [
      "['Liber', 'XXXVI', 'i', '1', 'Lapidum', 'natura', 'restat', ',', 'hoc', 'est']\n"
     ]
    }
   ],
   "source": [
    "print(tokens_36[:10])"
   ]
  },
  {
   "cell_type": "markdown",
   "metadata": {},
   "source": [
    "Book 37"
   ]
  },
  {
   "cell_type": "code",
   "execution_count": 101,
   "metadata": {},
   "outputs": [],
   "source": [
    "tokens_37 = word_tokenize(p37_raw)"
   ]
  },
  {
   "cell_type": "code",
   "execution_count": 102,
   "metadata": {},
   "outputs": [
    {
     "data": {
      "text/plain": [
       "13865"
      ]
     },
     "execution_count": 102,
     "metadata": {},
     "output_type": "execute_result"
    }
   ],
   "source": [
    "len(tokens_37)"
   ]
  },
  {
   "cell_type": "code",
   "execution_count": 103,
   "metadata": {},
   "outputs": [
    {
     "name": "stdout",
     "output_type": "stream",
     "text": [
      "['Liber', 'XXXVII', 'i', '1', 'Ut', 'nihil', 'instituto', 'operi', 'desit', ',']\n"
     ]
    }
   ],
   "source": [
    "print(tokens_37[:10])"
   ]
  },
  {
   "cell_type": "markdown",
   "metadata": {},
   "source": [
    "## Making text things, collocations, and finding stuff"
   ]
  },
  {
   "cell_type": "code",
   "execution_count": 31,
   "metadata": {
    "tags": []
   },
   "outputs": [],
   "source": [
    "text_33 = nltk.Text(tokens_33)\n",
    "text_34 = nltk.Text(tokens_34)\n",
    "text_1 = nltk.Text(tokens_1)\n",
    "text_35 = nltk.Text(tokens_35)\n",
    "text_36 = nltk.Text(tokens_36)\n",
    "text_37 = nltk.Text(tokens_37)"
   ]
  },
  {
   "cell_type": "code",
   "execution_count": 32,
   "metadata": {
    "tags": []
   },
   "outputs": [
    {
     "data": {
      "text/plain": [
       "nltk.text.Text"
      ]
     },
     "execution_count": 32,
     "metadata": {},
     "output_type": "execute_result"
    }
   ],
   "source": [
    "type(text_33)"
   ]
  },
  {
   "cell_type": "code",
   "execution_count": 33,
   "metadata": {
    "tags": []
   },
   "outputs": [
    {
     "name": "stdout",
     "output_type": "stream",
     "text": [
      "['expirasse', 'et', 'indicium', 'ita', 'extinctum', '.', '16', 'ergo', 'ut', 'maxime', 'MM', 'tantum', 'pondo', ',', 'cum', 'capta', 'est', 'Roma', ',', 'anno', 'CCCLXIIII', 'fuere', ',', 'cum', 'iam', 'capitum', 'liberorum', 'censa', 'essent', 'CLII', 'DLXXIII', '.', 'in', 'eadem', 'post', 'annos', 'CCCVII', ',']\n"
     ]
    }
   ],
   "source": [
    "print(text_33[1075:1113])"
   ]
  },
  {
   "cell_type": "code",
   "execution_count": 36,
   "metadata": {
    "tags": []
   },
   "outputs": [
    {
     "name": "stdout",
     "output_type": "stream",
     "text": [
      "etiam nunc; qui primus; equestrem ordinem; Claudii principatu; neque\n",
      "enim; argentum vivum; deorum simulacris; divi Augusti; divo Augusto;\n",
      "suo loco; nihil aliud; Homero teste; Liberi patris; multum infra; anno\n",
      "urbis; Perseo rege; Troianis temporibus; bellum civile; equester ordo;\n",
      "tribunatu plebei\n"
     ]
    },
    {
     "name": "stderr",
     "output_type": "stream",
     "text": [
      "[nltk_data] Downloading package stopwords to\n",
      "[nltk_data]     /Users/katherinethomson/nltk_data...\n",
      "[nltk_data]   Unzipping corpora/stopwords.zip.\n"
     ]
    }
   ],
   "source": [
    "nltk.download('stopwords')\n",
    "text_33.collocations()"
   ]
  },
  {
   "cell_type": "code",
   "execution_count": 37,
   "metadata": {
    "tags": []
   },
   "outputs": [
    {
     "name": "stdout",
     "output_type": "stream",
     "text": [
      "simili modo; Concordiae templo; Alexander Magnus; quadrigas bigasque;\n",
      "sine dubio; supra dicto; pari pondere; sua arte; Atti Navi; Huiusce\n",
      "Diei; Martis Ultoris; gracili venarum; liquida pice; navalem\n",
      "triumphum; populus Romanus; triumphum egit; venarum discursu; aqua\n",
      "pluvia; Liberum patrem; aerarium fabrum\n"
     ]
    }
   ],
   "source": [
    "text_34.collocations()"
   ]
  },
  {
   "cell_type": "code",
   "execution_count": 38,
   "metadata": {
    "tags": []
   },
   "outputs": [
    {
     "name": "stdout",
     "output_type": "stream",
     "text": [
      "quo modo; quando primum; quis primus; Sextio Nigro; qui item; Catone\n",
      "censorio; Alexandro polyhistore; Pompeio Lenaeo; Graece scripsit;\n",
      "Cornelio Nepote; Olympiade Thebana; Magonem transtulit; Petronio\n",
      "Diodoto; qui Graece; Nigro qui; Antonio Castore; gen. eius; epitomas\n",
      "fecit; Cornelio Celso; non sint\n"
     ]
    }
   ],
   "source": [
    "text_1.collocations()"
   ]
  },
  {
   "cell_type": "code",
   "execution_count": 39,
   "metadata": {
    "tags": []
   },
   "outputs": [
    {
     "data": {
      "text/plain": [
       "178"
      ]
     },
     "execution_count": 39,
     "metadata": {},
     "output_type": "execute_result"
    }
   ],
   "source": [
    "p33_raw.find(\"argentum\")"
   ]
  },
  {
   "cell_type": "code",
   "execution_count": 40,
   "metadata": {
    "tags": []
   },
   "outputs": [
    {
     "data": {
      "text/plain": [
       "53718"
      ]
     },
     "execution_count": 40,
     "metadata": {},
     "output_type": "execute_result"
    }
   ],
   "source": [
    "p33_raw.rfind(\"aurum\")"
   ]
  },
  {
   "cell_type": "markdown",
   "metadata": {},
   "source": [
    "## Splitting along lines - doesn't seem useful"
   ]
  },
  {
   "cell_type": "code",
   "execution_count": 41,
   "metadata": {
    "tags": []
   },
   "outputs": [
    {
     "data": {
      "text/plain": [
       "['Liber XXXIII',\n",
       " '   ',\n",
       " 'i\\t  ',\n",
       " '1\\t',\n",
       " 'Metalla nunc ipsaeque opes et rerum pretia dicentur, tellurem intus exquirente cura multiplici modo, quippe alibi divitiis foditur quaerente vita aurum, argentum, electrum, aes, alibi deliciis gemmas et parietum lignorumque pigmenta, alibi temeritati ferrum, auro etiam gratius inter bella caedesque. persequimur omnes eius fibras vivimusque super excavatam, mirantes dehiscere aliquando aut intremescere illam, ceu vero non hoc indignatione sacrae parentis exprimi possit.',\n",
       " '2\\t',\n",
       " 'imus in viscera et in sede manium opes quaerimus, tamquam parum benigna fertilique qua calcatur. et inter haec minimum remediorum gratia scrutamur, quoto enim cuique fodiendi causa medicina est? quamquam et hoc summa sui parte tribuit ut fruges, larga facilisque in omnibus, quaecumque prosunt.',\n",
       " '',\n",
       " '3\\t',\n",
       " 'illa nos peremunt, illa nos ad inferos agunt, quae occultavit atque demersit, illa, quae non nascuntur repente, ut mens ad inane evolans reputet, quae deinde futura sit finis omnibus saeculis exhauriendi eam, quo usque penetratura avaritia. quam innocens, quam beata, immo vero etiam delicata esset vita, si nihil aliunde quam supra terras concupisceret, breviterque, nisi quod secum est!',\n",
       " '   ',\n",
       " 'ii\\t  ',\n",
       " '4\\t',\n",
       " 'Eruitur aurum et chrysocolla iuxta, ut pretiosior videatur, nomen ex auro custodiens. parum enim erat unam vitae invenisse pestem, nisi in pretio esset auri etiam sanies. quaerebat argentum avaritia; boni consuluit interim invenisse minium rubentisque terrae excogitavit usum. heu prodigia ingenia, quot modis auximus pretia rerum! accessit ars picturae, et aurum argentumque caelando carius fecimus. didicit homo naturam provocare. auxere et artem vitiorum inritamenta; in poculis libidines caelare iuvit ac per obscenitates bibere.',\n",
       " '',\n",
       " '5\\t',\n",
       " 'abiecta deinde sunt haec ac sordere coepere, ut auri argentique nimium fuit. murrina ex eadem tellure et crystallina effodimus, quibus pretium faceret ipsa fragilitas. hoc argumentum opum, haec vera luxuriae gloria existimata est, habere quod posset statim perire totum. nec hoc fuit satis. turba gemmarum potamus et zmaragdis teximus calices, ac temulentiae causa tenere Indiam iuvat. aurum iam accessio est,',\n",
       " '  ',\n",
       " 'iii\\t6\\t',\n",
       " 'utinamque posset e vita in totum abdicari [sacrum fame, ut celeberrimi auctores dixere] proscissum conviciis ab optimis quibusque et ad perniciem vitae repertum, quanto feliciore aevo, cum res ipsae permutabantur inter sese, sicut et Troianis temporibus factitatum Homero credi convenit! ita enim, ut opinor, commercia victus gratia invecta.']"
      ]
     },
     "execution_count": 41,
     "metadata": {},
     "output_type": "execute_result"
    }
   ],
   "source": [
    "p33_raw.split('\\n')[:20]"
   ]
  },
  {
   "cell_type": "code",
   "execution_count": 42,
   "metadata": {
    "tags": []
   },
   "outputs": [
    {
     "data": {
      "text/plain": [
       "['Liber XXXIV',\n",
       " '',\n",
       " '    ',\n",
       " 'i\\t     ',\n",
       " '1\\t',\n",
       " 'Proxime dicuntur aeris metalla, cui et in usu proximum est pretium, immo vero ante argentum ac paene etiam ante aurum Corinthio, stipis quoque auctoritas, ut diximus. hinc aera militum, tribuni aerarii et aerarium, obaerati, aere diruti. docuimus quamdiu populus Romanus aere tantum signato usus esset: et alia re vetustas aequalem urbi auctoritatem eius declarat, a rege Numa collegio tertio aerarium fabrum instituto.',\n",
       " '    ',\n",
       " 'ii\\t     ',\n",
       " '2\\t',\n",
       " 'Vena quo dictum est modo foditur ignique perficitur. fit et e lapide aeroso, quem vocant cadmean, celebri trans maria et quondam in Campania, nunc et in Bergomatium agro extrema parte Italiae; ferunt nuper etiam in Germania provincia repertum. fit et ex alio lapide, quem chalcitim appellant in Cypro, ubi prima aeris inventio, mox vilitas praecipua reperto in aliis terris praestantiore maximeque aurichalco, quod praecipuam bonitatem admirationemque diu optinuit nec reperitur longo iam tempore effeta tellure.',\n",
       " '3\\t',\n",
       " 'proximum bonitate fuit Sallustianum in Ceutronum Alpino tractu, non longi et ipsum aevi, successitque ei Livianum in Gallia. utrumque a metallorum dominis appellatum, illud ab amico divi Augusti, hoc a coniuge.',\n",
       " '',\n",
       " '4\\t',\n",
       " 'velocis defectus Livianum quoque; certe admodum exiguum invenitur. summa gloriae nunc in Marianum conversa, quod et Cordubense dicitur. hoc a Liviano cadmean maxime sorbet et aurichalci bonitatem imitatur in sestertiis dupondiariisque, Cyprio suo assibus contentis. et hactenus nobilitas in aere naturalis se habet.',\n",
       " '',\n",
       " '    ',\n",
       " 'iii\\t     ',\n",
       " '5\\t',\n",
       " 'Reliqua genera cura constant, quae suis locis reddentur, summa claritate ante omnia indicata. quondam aes confusum auro argentoque miscebatur, et tamen ars pretiosior erat; nunc incertum est, peior haec sit an materia, mirumque, cum ad infinitum operum pretia creverint, auctoritas artis extincta est. quaestus enim causa, ut omnia, exerceri coepta est quae gloriae solebat — ideo etiam deorum adscripta operi, cum proceres gentium claritatem et hac via quaererent —, adeoque exolevit fundendi aeris pretiosi ratio, ut iam diu ne fortuna quidem in ea re ius artis habeat.']"
      ]
     },
     "execution_count": 42,
     "metadata": {},
     "output_type": "execute_result"
    }
   ],
   "source": [
    "p34_raw.split('\\n')[:20]"
   ]
  },
  {
   "cell_type": "code",
   "execution_count": 43,
   "metadata": {
    "tags": []
   },
   "outputs": [
    {
     "data": {
      "text/plain": [
       "['LIBRO II CONTINENTUR',\n",
       " '',\n",
       " '1\\t',\n",
       " 'An finitus sit mundus et an unus',\n",
       " '',\n",
       " '2\\t',\n",
       " 'de forma eius',\n",
       " '',\n",
       " '3\\t',\n",
       " 'de motu eius. cur mundus dicatur',\n",
       " '',\n",
       " '4\\t',\n",
       " 'de elementis',\n",
       " '',\n",
       " '5\\t',\n",
       " 'de deo',\n",
       " '',\n",
       " '6\\t',\n",
       " 'de siderum errantium natura',\n",
       " '']"
      ]
     },
     "execution_count": 43,
     "metadata": {},
     "output_type": "execute_result"
    }
   ],
   "source": [
    "p1_raw.split('\\n')[:20]"
   ]
  },
  {
   "cell_type": "markdown",
   "metadata": {},
   "source": [
    "## We globbing, they hating"
   ]
  },
  {
   "cell_type": "code",
   "execution_count": 117,
   "metadata": {
    "tags": []
   },
   "outputs": [
    {
     "data": {
      "text/plain": [
       "['Universalite_du_fait_monetaire_et_pluralite_des_mo (1) translated.pdf',\n",
       " 'Menendez_Misjudged_Network_Pic_Lock_Discovery_060322__Fact Check Act 2.docx',\n",
       " 'main-qimg-4d9c0e09ccd117e0502a3e32622763dd.webp',\n",
       " 'Monson JRS revisions 1.6 _ Editor Version _ KT cpyedt 7.docx',\n",
       " 'Midterm Exam Li Li - Submissions May 16, 2022 159 PM.zip',\n",
       " 'Plin_34.txt',\n",
       " 'The Rules of Sociological Method And selected texts on sociology and its method (Emile Durkheim (auth.), Steven Lukes (eds.)) (z-lib.org).pdf',\n",
       " 'download (5).jpeg',\n",
       " '~$apter 1.docx',\n",
       " 'Katherine Thomson - Resume 2022 (1).docx',\n",
       " 'Katherine Thomson 2023 Summer Funding Request .pdf',\n",
       " 'download.jpeg',\n",
       " 'Black-Venus-Abstract-2___KT EDIT.docx',\n",
       " 'Abstract for Chapter 1 - 14.docx',\n",
       " 'For Sebastian.zip',\n",
       " 'Lectures on the History of Political Philosophy (John Rawls) (z-lib.org).pdf',\n",
       " 'Draft of Thing 1.023 (1).docx',\n",
       " 'Visual Studio Code.app',\n",
       " 'coins_export_2023_05_01_200804.csv',\n",
       " 'umich-wcl-M-5039sol.pdf',\n",
       " 'The Good of Time 1.1.docx',\n",
       " 'Katherine Thomson - EE Conference Paper - Second Draft Paper 12.docx',\n",
       " 'Abstract for Chapter 1 - 4.docx',\n",
       " 'Exploring my sensory learning experience.docx',\n",
       " 'I94 - Official Website.pdf',\n",
       " 'timeline-athenian-democracy-n.jpeg',\n",
       " '~$cond and Third Extra Credit- Textual Analysis Practice.docx',\n",
       " 'Katherine Thomson - EE Conference Paper - Second Draft Paper 6.docx',\n",
       " '~$aft of Thing 1.023 (1).docx',\n",
       " 'Directional Map of Experience.png',\n",
       " 'traj-4338-kelly.pdf',\n",
       " 'IMG_0657.HEIC',\n",
       " '0000.999.23.rev.noscale.jpg',\n",
       " 'Plin_35.txt',\n",
       " 'Adobe Scan Oct 20, 2022 (1).pdf',\n",
       " 'Perceptions_of_male_victims_in_depicted_sexual_ass.pdf',\n",
       " 'Dissertation April 11.1.scriv.zip',\n",
       " 'query (2).csv',\n",
       " 'currency-and-control.pdf (2).pdf',\n",
       " 'MACROECONOMICS (N GREGORY MANKIW) (z-lib.org).epub',\n",
       " 'Chapter 1 - 41.docx',\n",
       " 'Detailed Dissertation Plan 2.1.docx',\n",
       " 'NAHA WK 6 KT HW (1).ipynb',\n",
       " 'query.csv',\n",
       " 'Plin_37.txt',\n",
       " 'Katherine Sophocles Paper PM NOTES (1).pdf',\n",
       " 'Katherine Thomson - Dean Planned Timeline of Completion.pdf',\n",
       " 'VSCode-darwin-universal (1).zip',\n",
       " 'Untitled.html',\n",
       " 'Thomson Lease (1).pdf',\n",
       " 'thomson',\n",
       " 'Scientisme et sciences sociales (von Hayek, Friedrich) (z-lib.org).epub',\n",
       " 'Abstract for Chapter 1 - 18.docx',\n",
       " 'wallpaperflare.com_wallpaper.jpg',\n",
       " '~$apter 1 Introduction (1).docx',\n",
       " '2023 RC Service Retreat app.doc',\n",
       " '~$ Conference Draft Presentation 3.docx',\n",
       " 'show (2).pdf',\n",
       " 'Re__Menendez_Fact_Check',\n",
       " 'Workshop Presentation Draft .pptx',\n",
       " 'Chapter 2 Tributary Empires _ KT cpyedt 2.docx',\n",
       " 'Paper 3 - Ali Kasimoglu.docx',\n",
       " 'Abstract for Chapter 1 - 34.docx',\n",
       " 'download (1).pdf',\n",
       " '~$srtact .docx',\n",
       " 'QuantifyingVHeesch.pdf',\n",
       " 'The German Ideology, including Theses on Feuerbach (Karl Marx, Friedrich Engels) (z-lib.org).pdf',\n",
       " 'Abstract for Chapter 1 - 8.docx',\n",
       " 'Capital Volume 1 A Critique of Political Economy (Karl Marx, Ben Fowkes, Ernest Mandel) (z-lib.org).pdf',\n",
       " 'Course_Proposal_form-AY-2019-20.doc',\n",
       " 'Midterm Exam Li Li - Submissions May 16, 2022 159 PM',\n",
       " 'Black-Venus-Abstract-2.docx',\n",
       " 'Chapter 2 Tributary Empires _ KT cpyedt 10 (1).docx',\n",
       " 'Plin_36.txt',\n",
       " 'Katherine Thomson _ Economic Epistemologies Abstract _ 15 Feb 2023  (2).docx',\n",
       " '~$te Thomson -- Introduction Draft -- For Bransbourg.docx',\n",
       " 'Abstract for Chapter 1 - 8 copy.docx',\n",
       " '~$e Good of Time 1.1.docx',\n",
       " 'Thomson Lease.pdf',\n",
       " 'Section outline.docx',\n",
       " '520210-33412dcdfd7bea763abd7bb1c7ea64284c7ae84b',\n",
       " '3월 8일-음식과 맛.docx',\n",
       " 'Economic_Theory_and_the_Roman_Monetary_Economy_----_(Chapter_2_Embedding_Contexts_of_Roman_Money).pdf',\n",
       " 'download (3).jpeg',\n",
       " 'Abstract for Chapter 1 - 9.docx',\n",
       " 'The Theory of Social and Economic Organization (Max Weber) (z-lib.org).pdf',\n",
       " 'IMG_6327.HEIC',\n",
       " 'The Division of Labour in Society (Emile Durkheim) Chapter 3.pdf',\n",
       " '.DS_Store',\n",
       " 'Chapter 1.docx',\n",
       " 'Katherine Thomson Return New York to Amsterdam Prices.pdf',\n",
       " 'Katherine Thomson - Resume Fall 2022.pdf',\n",
       " 'female-body-front-back-view-260nw-701547448.webp',\n",
       " 'KT Sensory Journal 21:04:2022.docx',\n",
       " 'IMG_6167.HEIC',\n",
       " 'Capitalism, Socialism and Democracy (Joseph Schumpeter) (z-lib.org).pdf',\n",
       " 'Chapter 2 Tributary Empires _ KT cpyedt 3.docx',\n",
       " 'Dissertation Draft 19:4.pages',\n",
       " 'Stglitz2000.pdf',\n",
       " '2121880.pdf',\n",
       " 'S1047759400012228.pdf',\n",
       " 'The Division of Labour in Society (Emile Durkheim) Chapter 2.pdf',\n",
       " 'Kechu Huang_Written Exam #2.docx',\n",
       " 'ISAW Session 1.mp4',\n",
       " 'Re__Menendez_Fact_Check.zip',\n",
       " 'N10831590.pdf',\n",
       " 'Recitation 11- Summary Notes Revised.docx',\n",
       " 'Abstract for Chapter 1 - 19.docx',\n",
       " 'New Folder With Items 2',\n",
       " 'KIC Document 0001 (1).pdf',\n",
       " '~$nendez_Misjudged_Network_Pic_Lock_SNAPS_060322_ND Fact Check (1).docx',\n",
       " 'Timing Breakdown 4@2x.png',\n",
       " '7th Year Funding Request 2.docx',\n",
       " 'Abstract for Chapter 1 - 8 copy (1).docx',\n",
       " 'Vespasian_denarius.jpg',\n",
       " 'Plin_33.txt',\n",
       " '~$therine Thomson - EE Conference Paper - Second Draft Paper 3.docx',\n",
       " 'Data Research4.xlsx',\n",
       " 'Book Nov 1, 2022.pdf',\n",
       " 'v2_bsb00140752_00055_full_full_0_default.jpg',\n",
       " 'rev_stats-2015-en-fr.bib',\n",
       " 'IMG_0656.HEIC',\n",
       " '10.4324_9781315830254_previewpdf.pdf',\n",
       " 'Untitled-1.ipynb',\n",
       " 'Katherine Thomson - EE Conference Paper - Second Draft Paper 7.docx',\n",
       " 'coins_export_2023_05_01_183958.csv',\n",
       " 'Katherine Thomson - EE Conference Paper - Second Draft Paper 13.docx',\n",
       " 'Abstract for Chapter 1 - 5.docx',\n",
       " 'Katherine Thomson Amsterdam to Leiden Centraal Prices.pdf',\n",
       " 'LOT Hotel, Leiden – Updated 2023 Prices (1).pdf',\n",
       " 'Presentation-5.pptx',\n",
       " 'GDNA2023-week-11 2',\n",
       " 'Katherine Thomson 7th Year Funding Request .docx',\n",
       " 'download (1).jpeg',\n",
       " 'week-4-diagnostic-KJT2 (1).ipynb',\n",
       " '7th Year Funding Request.docx',\n",
       " 'Chapter 1 Introduction __ KT cpyedt 10 (3) copy.docx',\n",
       " 'Katherine_Thomson_Leiden_Report_2023.docx',\n",
       " 'The Division of Labour in Society (Emile Durkheim) Chapter 1.pdf',\n",
       " 'intro roughest of roughs 2.docx',\n",
       " 'Saller(2020)DataFig3.xlsx',\n",
       " 'Abstract for Chapter 1 - 15.docx',\n",
       " 'KT_ISAWDH_Week03_2023.ipynb',\n",
       " 'Chapter 3 Fiscal Federationalism.docx',\n",
       " '.localized',\n",
       " 'download.pdf',\n",
       " '~$therine Thomson - EE Conference Paper - Second Draft Paper 15.docx',\n",
       " 'Plin_1.txt',\n",
       " 'Monson JRS revisions 1.6 _ Editor Version _ KT cpyedt 6.docx',\n",
       " 'Chapter 1 Introduction __ KT cpyedt 10 (2).docx',\n",
       " 'CsvExportFor_kjt323_20230404181143.csv',\n",
       " 'Menendez_Misjudged_Network_Pic_Lock_Discovery_060322__Fact Check Act 3.docx',\n",
       " 'Classical Social Theory and Modern Society Marx, Durkheim, Weber (Edward Royce) (z-lib.org).pdf',\n",
       " 'Kaniz_Fatema_Essay#1_Citizenship.pdf',\n",
       " 'Chapter 1 - 47.docx',\n",
       " 'Lectures on the History of Political Philosophy.pdf',\n",
       " '~$June.docx',\n",
       " '~$ Conference paper for Patrick.docx',\n",
       " 'Untitled.ipynb',\n",
       " 'Economy and Society An Outline of Interpretive Sociology (Max Weber, Guenther Roth (editor) etc.) Chapter 3.pdf',\n",
       " 'v2_bsb00140752_00056_full_full_0_default.jpg',\n",
       " 'bhjocsi3lalg1vmnrhh0.jpeg',\n",
       " 'Monetary-system-plane.png',\n",
       " 'Recitation 12 - Edited Notes.docx',\n",
       " 'Xenophon_Ethical_Principles_and_Historical_Enquiry_----_(21._Economic_Thought_and_Economic_Fact_in_the_Works_of_Xenophon_).pdf',\n",
       " 'wallpaperflare.com_wallpaper (3).jpg',\n",
       " 'figure-2-for-fiat-paper.png',\n",
       " 'Chapter 1 Introduction.docx',\n",
       " 'Chapter 2 Tributary Empires _ KT cpyedt 4.docx',\n",
       " 'Abstract for Chapter 1 - 32.docx',\n",
       " 'Adobe Scan Oct 28, 2022.pdf',\n",
       " 'GDNA2023-week-11.zip',\n",
       " 'Neo.docx',\n",
       " 'Midterm Exam Download Mar 24, 2022 434 PM.zip',\n",
       " 'week-4-diagnostic-KJT2.ipynb 2',\n",
       " 'Know Your Options.pdf',\n",
       " 'Harris W.V. (ed.) The monetary systems of the Greeks and Romans (OUP, 2008)(ISBN 0199233357)(O)(345s)_GH_.pdf',\n",
       " 'Chicago-Police-Star-Magazine-1976-Volume-15-No.-2-March HANHARDT RECIEVED OVER 100 CALL IN PRAISE FROM PUBLIC (1).pdf',\n",
       " 'Abstract for Chapter .docx',\n",
       " 'Chicago-Police-Star-Magazine-1979-Volume-18-No.-6-June HANHARDT MADE SUPERINTENDENT.pdf',\n",
       " 'Chicago-Police-Star-Magazine-1986-Volume-25-No.-3-May-June HANHARDT RETIREMENT.pdf',\n",
       " 'Fineness_of_early_Roman_Imperial_silver_coins.png',\n",
       " 'Katherine Thomson - Dean Dissertation Progress Report.docx',\n",
       " '~$therine Thomson - EE Conference Paper - Second Draft Paper 8.docx',\n",
       " 'Katherine Thomson - Resume 2022 (1).pdf',\n",
       " 'QUESTIONS for SAM REAVES.docx',\n",
       " 'TAHLR-Week-5-kjt.ipynb',\n",
       " 'Menendez_Misjudged_Network_Pic_Lock_Discovery_060322__Fact Check Act 4.docx',\n",
       " 'What does Sophocles 1.docx',\n",
       " 'S104775940001182X.pdf',\n",
       " '~$apter 3 Federal Contributions - KT cpyedt in progress, ref remaining.docx',\n",
       " 'download (4).jpeg',\n",
       " 'Dissertation April 12.scriv',\n",
       " 'show.pdf',\n",
       " '6.090-january-iap-2005.zip',\n",
       " 'lghub_installer.app',\n",
       " 'Monson JRS revisions 1.6.docx',\n",
       " 'Kechu Huang_Written #3 _ KT Edit.docx',\n",
       " 'timeline_greece.png',\n",
       " '301282.pdf',\n",
       " 'aq-10.pdf',\n",
       " 'Thomson _The Good Society_Gallatin Course Proposal 2022 (2).doc',\n",
       " 'Chapter 2 Tributary Empires _ KT cpyedt 10.docx',\n",
       " 'Abstract for Chapter 1 - 12.docx',\n",
       " 'Chapter 2 Tributary Empires _ KT cpyedt 8.docx',\n",
       " 'Final Exam Meeting Notes Roman Hist Prof Feeney .docx',\n",
       " '~$apter 3 Federal Contributions - KT ref in progress 8:8:23.docx',\n",
       " 'Queen-Anne-Wilkes-Barr-19e3a9.jpeg',\n",
       " 'GDNA2023-week-13.zip',\n",
       " 'Arundel MS 98 f.12v.png',\n",
       " 'QUESTIONS for SAM REAVES 1.docx',\n",
       " 'EE Conference paper for Patrick.docx',\n",
       " 'I-20_Digitally_Signed (1).pdf',\n",
       " 'GDNA2023-week-12.zip',\n",
       " 'mints.kml',\n",
       " 'Katherine Thomson - EE Conference Paper - Second Draft Paper 14.docx',\n",
       " 'Abstract for Chapter 1 - 2.docx',\n",
       " 'The British Gold.6.docx',\n",
       " 'NYU_CRSEVL_S.pdf',\n",
       " 'Good Night GIF.gif',\n",
       " 'TRW Midterm Readings Scan - Prof Feeney .pdf',\n",
       " 'Chapter 1 Introduction __ KT cpyedt 6.docx',\n",
       " 'IMG_0651.HEIC',\n",
       " '~$te Thomson - Lit Review Draft - for Bransbourg.docx',\n",
       " '8aa18caf87213c70be887d5772d59b03.jpeg',\n",
       " 'Katherine Thomson _ Economic Epistemologies Abstract _ Feb 2023 (1).docx',\n",
       " 'Chapter 3 Federal Contributions - KT cpyedt in progress.docx',\n",
       " 'Kate Thomson - Lit Review Draft - for Bransbourg.docx',\n",
       " 'Katherine Sophocles Paper - Draft.docx',\n",
       " '43286778.pdf',\n",
       " 'Chapter 1 Introduction __ KT cpyedt 7.docx',\n",
       " 'GDNA2023-week-11',\n",
       " 'Katherine Thomson — Dean Dissertation Summary.pdf',\n",
       " '~$sg1.doc',\n",
       " 'Kechu Huang_Written Exam #2 _ KT Edit.docx',\n",
       " 'Katherine Thomson - Resume 2022.pdf',\n",
       " 'Katherine Thomson - EE Conference Paper - Second Draft Paper 15.docx',\n",
       " '~$Workshop Presentation Draft 1.pptx',\n",
       " '10154035_10203799549213769_7392459261431903700_n.jpg',\n",
       " 'Introduction.docx',\n",
       " 'Abstract for Chapter 1 - 3.docx',\n",
       " 'K2 abstract_AJ comments.docx',\n",
       " 'Reigns+of+first+25+Roman+Emperors+by+jaypenner.png',\n",
       " 'Chapter 0 - 1.docx',\n",
       " 'Third Paper Sovereignty Download Apr 25, 2022 206 PM.zip',\n",
       " 'Hadrian_denarius.jpg',\n",
       " '6.0001-fall-2016.zip',\n",
       " 'coins_export_2023_05_01_194921.csv',\n",
       " '3월 21일- 캐서린 씨 이야기.docx',\n",
       " 'Chapter 1 Introduction __ KT cpyedt 10 (3).docx',\n",
       " 'TAHLR-Week-3.ipynb',\n",
       " 'dejbesc-b5d9db96-8b65-445b-825a-9f1e9ccfed2a.png',\n",
       " 'Chapter 2 Tributary Empires _ KT cpyedt 9.docx',\n",
       " 'Midterm Exam Download Mar 24, 2022 434 PM',\n",
       " '~$stract for Chapter1.docx',\n",
       " 'tesi G. Pardini.pdf',\n",
       " 'Chapter 2 Tributary Empires _ KT cpyedt 11.docx',\n",
       " 'August 22 Alt.docx',\n",
       " 'Katherine Sophocles Paper Submit 1.docx',\n",
       " 'Brunner_North Africa_Gallatin Course Proposal (1).pdf',\n",
       " 'intro roughest of roughs.docx',\n",
       " 'CsvExportFor_kjt323_20230406220448.csv',\n",
       " '~$therine Thomson - EE Conference Paper - Second Draft Paper 13.docx',\n",
       " 'it558_fill_in_2d.pdf',\n",
       " 'Chicago-Police-Star-Magazine-1976-Volume-15-No.-2-March HANHARDT RECIEVED OVER 100 CALL IN PRAISE FROM PUBLIC.pdf',\n",
       " 'The Romans. From Village to Empire (Mary T. Boatwright, Daniel J. Gargola etc.pdf',\n",
       " 'Nero_denarius.jpg',\n",
       " 'Third Paper Sovereignty Download Apr 25, 2022 206 PM',\n",
       " '~$apter 3 Federal Contributions - kjt cpyedt.docx',\n",
       " 'openrefine-mac-3.7.2.dmg',\n",
       " 'ISAW SC Faculty Presentation Student Survey Summary .pptx.pdf',\n",
       " 'Menendez_Misjudged_Network_Pic_Lock_Discovery_060322__Fact Check Act 5.docx',\n",
       " '202203281351.pdf',\n",
       " 'Katherine Thomsons - Modelling Economies Paper.docx',\n",
       " 'IMG_9772.MOV',\n",
       " '438-Artikeltext-5572-1-10-20170531.pdf',\n",
       " 'NAU5_005.zip',\n",
       " 'Second Paper Constitution Download Apr 8, 2022 111 PM',\n",
       " 'Workshop presentation 1 copy copy.docx',\n",
       " 'Menendez_Misjudged_Network_Pic_Lock_Discovery_060322.docx',\n",
       " 'download (2).jpeg',\n",
       " 'Geschichte_der_Staatsgewalt.bibtex',\n",
       " 'giphy.gif',\n",
       " 'Tiberius_denarius.jpg',\n",
       " 'Chapter 1 Introduction __ KT cpyedt 10 (1).docx',\n",
       " 'Tsolakis-Thesis__KT INTRO EDIT 1.docx',\n",
       " 'Student Information Change Form 20180629 - Kate .pdf',\n",
       " 'DE-2412-ID1499-av.jpg',\n",
       " '~$therine Thomson _ Economic Epistemologies Abstract _ Feb 2023 SUBMIT.docx',\n",
       " 'Chicago-Police-Star-Magazine-1971-Volume-12-No.-2-February HANHARDT LEAVES BURGLARY.pdf',\n",
       " 'All_Period.csv',\n",
       " 'Abstract for Chapter 1 - 33.docx',\n",
       " 'Chapter 1 - 48 (1).docx',\n",
       " 'Timing Breakdown 2@2x.png',\n",
       " 'Oxford Latin Dictionary (Glare P.G.W.) (z-lib.org).pdf',\n",
       " 'Chapter 2 Tributary Empires _ KT cpyedt 5.docx',\n",
       " 'Timing Breakdown.png',\n",
       " 'Chicago-Police-Star-Magazine-1979-Volume-18-No.-4-April FRED PASCENTE MAKES DETECTIVE.pdf',\n",
       " 'ISAW Community Survey Stats PPT.pdf',\n",
       " 'wallpaperflare.com_wallpaper (2).jpg',\n",
       " '520210-33412dcdfd7bea763abd7bb1c7ea64284c7ae84b.zip',\n",
       " '~$xed Constitutions Recitation 12 - Edited Notes.docx',\n",
       " 'Katherine Thomson - Planned Timeline of Completion.docx',\n",
       " '[The library of numismatics] Michael H. Crawford - Coinage and money under the Roman Republic. Italy and the Mediterranean economy (1985, Methuen) - libgen.lc.pdf',\n",
       " '~$ction outline.docx',\n",
       " 'BAME Experiences at UCL IoA.pdf',\n",
       " 'Burghmans, T. and J. Poblome (2016). _Roman bazaar or market economy_ Explaining tableware distributions through computaional modelling_. Antiquity 350(90) 393-408.pdf',\n",
       " 'figure-1-for-fiat-paper.png',\n",
       " 'Chapter 2 Tributary Empires.docx',\n",
       " 'snapshot-1682179705065@2x.png',\n",
       " 'Collected Works of Karl Marx (Illustrated) (Karl Marx, Friedrich Engels) (z-lib.org).epub',\n",
       " 'Chapter 1 - 46.docx',\n",
       " 'Chapter 2 Tribute and Empire __ KT cpyedt 12 (1).docx',\n",
       " '~$omson Abstract_KJ edits (1).docx',\n",
       " '~$therine Thomson _ Economic Epistemologies Abstract _ Feb 2023.docx',\n",
       " 'GDNA2023-week-09',\n",
       " '~$Data Research4.xlsx',\n",
       " 'KatherineThomson20221042SBCD.pdf',\n",
       " 'Chapter 1 Introduction __ KT cpyedt 8.docx',\n",
       " 'Thomson Lease 2 of 2.pdf',\n",
       " 'ep-may-jun1981-part1-wood-pdf.pdf',\n",
       " 'Tsolakis-Thesis__KT INTRO EDIT 2.docx',\n",
       " 'Thomson _The Good Society_Gallatin Course Proposal 2022:3.doc',\n",
       " '~$Presentation-5.pptx',\n",
       " 'Oxrep 1.pdf',\n",
       " 'IMG_6322.HEIC',\n",
       " 'Katherine Thomson _ Economic Epistemologies Abstract _ Feb 2023 SUBMIT (1).docx',\n",
       " 'it558_fill_in_2d (1).pdf',\n",
       " 'New Folder With Items',\n",
       " '14-brown-to-golden-blonde-ombre.webp',\n",
       " 'EnrollmentCertificate.pdf',\n",
       " 'Abstract for Chapter 1 - 30.docx',\n",
       " 'Chapter 2 Tributary Empires _ KT cpyedt 6.docx',\n",
       " '05260e1800acce9fa6af6e1ee84a8d8d.jpeg',\n",
       " 'i-9-paper-version.pdf',\n",
       " 'Arundel MS 98 .png',\n",
       " 'NAU5_005',\n",
       " 'Monson JRS revisions 1.6 _ Editor Version _ KT cpyedt 1 .docx',\n",
       " 'Thomson Abstract_KJ edits.docx',\n",
       " 'Katherine Thomson Summer Travel Budget Estimate.xlsx',\n",
       " 'wallpaperflare.com_wallpaper (1).jpg',\n",
       " '~$therine Thomson — NYU Center for the Humanities Proposal.docx',\n",
       " 'Thomson _The Good Society_Gallatin Course Proposal 2022.doc',\n",
       " 'Mi_2',\n",
       " 'v2_bsb00140752_00054_full_full_0_default.jpg',\n",
       " 'Chapter 1 - 45.docx',\n",
       " 'Anaconda3-2022.10-MacOSX-x86_64.pkg',\n",
       " 'csv22none.fmwt',\n",
       " 'Economic_Theory_and_the_Roman_Monetary_Economy_----_(Chapter_1_On_Writing_Roman_Economic_History).pdf',\n",
       " 'Adobe Scan Oct 20, 2022 (5).pdf',\n",
       " 'pliny.nh.1.33.ms.png',\n",
       " 'IMG_9784.MOV.zip',\n",
       " 'IMG_0653.HEIC',\n",
       " 'Chapter 1 Introduction __ KT cpyedt 4.docx',\n",
       " '~$therine Thomson - Dean Planned Timeline of Completion.docx',\n",
       " 'Mixed Constitutions -- CONTENT REVIEW.docx',\n",
       " 'coin export italy 62-194.csv',\n",
       " 'Harpers-Magazine-Internship_0408.docx',\n",
       " '1_oju4sS66EltVcZFJXNVVig.png',\n",
       " 'NAHA WK 6 KT HW.ipynb',\n",
       " 'Visual Studio Code 3.app',\n",
       " '~$te joy.docx',\n",
       " 'Views on Civic Morality at the Close of the Peloponnesian War in Athens.docx',\n",
       " 'Katherine Thomson _ Economic Epistemologies Abstract _ Feb 2023 SUBMIT (3).docx',\n",
       " 'LOT Hotel, Leiden – Updated 2023 Prices.pdf',\n",
       " 'Second Paper Constitution Download Apr 8, 2022 111 PM.zip',\n",
       " 'KT-ISAWDH23-1',\n",
       " 'Visual Studio Code 2.app',\n",
       " 'IMG_6210.HEIC',\n",
       " 'Abstract for Chapter 1 - 10.docx',\n",
       " 'SILVER_PERIOD.csv',\n",
       " '~$KJ Thomson Thesis Calculations Ch1 and Ch2 FINAL.xlsx',\n",
       " '~$tailed Dissertation Plan 2.1.docx',\n",
       " 'Chicago-Police-Star-Magazine-1981-Volume-20-No.-1-January-February HANHARDT REVAMPS CID (1).pdf',\n",
       " 'Appointment Booked - Online Health Services.pdf',\n",
       " 'Self-Assessment Workbook.docx',\n",
       " 'GOVT-2305-Government-Forms-of-Government-Chart-July-2017-Update-e1499291241113.png',\n",
       " 'coins_export_2023_05_01_184135.csv',\n",
       " 'Updated abstract for Rod.docx',\n",
       " 'Quest Diagnostics_ Billing Services.pdf',\n",
       " 'Monson JRS revisions 1.6 _ Editor Version _ KT cpyedt 3.docx',\n",
       " 'Menendez_Misjudged_Network_Pic_Lock_Discovery_060322__Fact Check Act 6.docx',\n",
       " '3월 1일-취미 이야기.docx',\n",
       " 'NYU_CRSEVL_S (1).pdf',\n",
       " '2009_Coin_use_in_a_dynamic_frontier_regi.pdf',\n",
       " 'Graeber and Wengrow.pdf',\n",
       " 'Menendez_Misjudged_Network_Pic_Lock_Discovery_060322__Fact Check Act 7.docx',\n",
       " '10141-14233-1-PB.pdf',\n",
       " 'Katherine Thomson Transcript 2022.pdf',\n",
       " 'Chapter 1 - 48.docx',\n",
       " 'Katherine Thomson _ Economic Epistemologies Abstract _ 15 Feb 2023 .docx',\n",
       " 'Monson JRS revisions 1.6 _ Editor Version _ KT cpyedt 2.docx',\n",
       " 'Recitation 13 -- Summary Notes (1).docx',\n",
       " '4월 4일-한국 가요.docx',\n",
       " 'Draft of Thing 1.023.docx',\n",
       " 'Insight Meditation Society.pdf',\n",
       " 'Form I-9 [Paper Version 10-31-22].pdf',\n",
       " 'hoard_export_2023_05_01_191800.csv',\n",
       " 'Abstract for Chapter 1 - 11.docx',\n",
       " 'Thomson _The Good Society_Gallatin Course Proposal 2022 (1).doc',\n",
       " 'Mixed Constitutions -- CONTENT REVIEW (1).docx',\n",
       " '2022 Health insurance ID .pdf',\n",
       " 'ruby-3.2.2.zip',\n",
       " 'IMG_5074.JPG',\n",
       " 'Menendez_Misjudged_Network_Pic_Lock_Discovery_060322__Fact Check Act 6.1.docx',\n",
       " 'I-20_Digitally_Signed (2).pdf',\n",
       " 'Adobe Scan Oct 28, 2022 (1).pdf',\n",
       " '~$apter 1 - 48.docx',\n",
       " '(Columbia Studies in the Classical Tradition) David B. Hollander-Money in the Late Roman Republic-Brill Academic Publishers (2007).pdf',\n",
       " 'ISAW_ Anti-Racism_ Understanding and Mitigating Racial and Other Microaggressions.pdf',\n",
       " 'Katherine Thomson - EE Conference Paper - Second Draft Paper 3.docx',\n",
       " 'Chicago-Police-Star-Magazine-1978-Volume-17-No.-9-September HANHARDT PLACED IN CID (1).pdf',\n",
       " 'ruby-3.2.2.tar.gz',\n",
       " 'Kate Thomson -- Introduction Draft -- For Bransbourg.docx',\n",
       " '~$aft Analysis Paper copy 5.docx',\n",
       " '2011 07 10 Kate Vietnam - Ostritch Girl.mp4',\n",
       " 'IMG_0652.HEIC',\n",
       " 'Chapter 1 Introduction __ KT cpyedt 5.docx',\n",
       " '122086421_2755820628026037_7674858260350870105_n.jpeg',\n",
       " '~$therine Thomson — Funding App 2022.docx',\n",
       " 'lghub_installer 2.app',\n",
       " 'Adobe Scan Oct 20, 2022 (4).pdf',\n",
       " '~$apter 2 Tributary Empires _ KT cpyedt 3.docx',\n",
       " '13047_2013_Article_784_Fig2_HTML.jpeg',\n",
       " '0000.999.23.obv.noscale.jpg',\n",
       " 'IMG_9784.MOV',\n",
       " 'Chapter 1 - 44.docx',\n",
       " 'From Keynes to Piketty The Century That Shook Up Economics (Peter de Haan) (z-lib.org).pdf',\n",
       " 'DRAFT Defining Economics.pptx',\n",
       " 'June.docx',\n",
       " 'uekqzeundbdwicdd9sl7.jpeg',\n",
       " 'Tsolakis-Thesis.docx',\n",
       " '\"pnas.1721818115.sd01\" replication, kate thomson.xlsx',\n",
       " 'coins_export_2023_05_01_195017.csv',\n",
       " 'What is Sovereignty_.pdf',\n",
       " 'sg1.doc',\n",
       " '84955-Article Text-161444-1-10-20200629.pdf',\n",
       " '1ff6b21844ba2efbf0d455a44578ad35.png',\n",
       " 'lghub_installer (1).zip',\n",
       " 'Principles of Economics (N. Gregory Mankiw) (z-lib.org).pdf',\n",
       " 'Adobe Scan Nov 1, 2022.pdf',\n",
       " 'Chapter 2 Tribute and Empire __ KT cpyedt 12.docx',\n",
       " 'Katherine Thomson - Dean Planned Timeline of Completion.docx',\n",
       " 'Scannable Document on Mar 29, 2022 at 2_43_08 PM.pdf',\n",
       " 'Workshop Presentation Draft 1 copy copy.pptx',\n",
       " 'The Division of Labour in Society (Emile Durkheim).pdf',\n",
       " 'thomson.zip',\n",
       " 'Frontiers of the Roman Empire A Social and Economic Study by Whittaker C.R. (z-lib.org).pdf',\n",
       " 'Chapter 2 Tributary Empires _ KT cpyedt 7.docx',\n",
       " 'Absrtact .docx',\n",
       " 'GDNA2023-week-09.zip',\n",
       " 'Abstract for Chapter 1 - 31.docx',\n",
       " \"Kate's Reply to Jen.docx\",\n",
       " 'Scannable Document on Mar 29, 2022 at 2_43_08 PM (1).pdf',\n",
       " '~$aft of Thing 1.023.docx',\n",
       " 'Katherine Thomson — NYU Center for the Humanities Proposal.docx',\n",
       " 'I-20_Digitally_Signed.pdf',\n",
       " '296866.pdf',\n",
       " '5010-16841-1-PB.pdf',\n",
       " '10.1515_jeeh-2017-0002.pdf',\n",
       " 'Compehensive Exams',\n",
       " 'Telegram.dmg',\n",
       " '~$apter 3 Federal Contributions.docx',\n",
       " '2023 RC Service Retreat app (1).doc',\n",
       " '6336223_1.pdf',\n",
       " 'Submit-Preset-1.40-final.docx',\n",
       " 'Marcus_Aurelius_denarius.jpg',\n",
       " '~$ndout draft 1 conference 2.docx',\n",
       " 'Adobe Scan Oct 20, 2022 (3).pdf',\n",
       " 'Q - Jon Podilska 1.docx',\n",
       " 'ISAW Diversity Statement Draft Structure.docx',\n",
       " '.ipynb_checkpoints',\n",
       " \"~$te's Reply to Jen.docx\",\n",
       " 'Second and Third Extra Credit - Completed.docx',\n",
       " 'IMG_0655.HEIC',\n",
       " 'Chicago-Police-Star-Magazine-1978-Volume-17-No.-9-September HANHARDT PLACED IN CID.pdf',\n",
       " 'Across_the_Ocean.pdf',\n",
       " 'JRS-ifc.pdf',\n",
       " 'Katherine Sophocles Paper Submit.docx',\n",
       " 'Economy and Society An Outline of Interpretive Sociology (Max Weber, Guenther Roth (editor) etc.).pdf',\n",
       " 'traj-4338-kelly (1).pdf',\n",
       " 'Abstract for Chapter 1 - 6.docx',\n",
       " 'Katherine Thomson - EE Conference Paper - Second Draft Paper 10.docx',\n",
       " 'Mi_2.zip',\n",
       " '978-1-349-02415-5.pdf',\n",
       " 'Microsoft Word - Study Away Request Form.docx.pdf',\n",
       " '~$nendez_Misjudged_Network_Pic_Lock_Discovery_060322__Fact Check Act 6.1.docx',\n",
       " 'IMG_6168.HEIC',\n",
       " '2월 7일-지난 이야기.docx',\n",
       " 'Abstract for Chapter 1 - 16.docx',\n",
       " 'intro roughest of roughs 1.docx',\n",
       " 'Katherine Thomson — Dean Dissertation Summary.docx',\n",
       " 'Chapter 2 Tribute and Empire __ KT cpyedt 12 (2).docx',\n",
       " 'I94 - Official Website 2023.pdf',\n",
       " 'Kate joy.docx',\n",
       " 'Katherine Thomson _ Economic Epistemologies Abstract _ Feb 2023 SUBMIT (2).docx',\n",
       " 'Katherine Thomson — Funding App 2023.docx',\n",
       " 'Monson JRS revisions 1.6 _ Editor Version _ KT cpyedt 5.docx',\n",
       " 'IMG_6191.HEIC',\n",
       " '1757-1146-6-44.html',\n",
       " 'Statement of Purpose 6 -- NYU mjt.docx',\n",
       " 'Kechu Huang_Written Exam #1_ KT Edit.docx',\n",
       " 'Katherine Thomson - Resume 2022.docx',\n",
       " 'The-Directional-Controls-in-a-Society.png',\n",
       " '21-tier-street-city-island-nyc-untapped-cities1.jpeg',\n",
       " '~$ abstract_AJ comments.docx',\n",
       " 'Katherine Thomson - EE Conference Paper - Second Draft Paper 8.docx',\n",
       " 'ruby-3.2.2',\n",
       " 'Q - Jon Podilska.docx',\n",
       " 'v2_bsb00140752_00053_full_full_0_default.jpg',\n",
       " 'Katherine Thomson - Unofficial Transcript Fall 2022.pdf',\n",
       " 'Romes Economic Revolution (Philip Kay) (z-lib.org).pdf',\n",
       " 'Katherine Thomson 2023 Summer Funding Request',\n",
       " 'Katherine Thomson 7th Year Funding Request  (1).docx',\n",
       " 'Katherine Thomson _ Economic Epistemologies Abstract _ Feb 2023.docx',\n",
       " 'Thesaurus — Geschichten Beiträge zu einer Historia Thesauri linguae Latinae von Theodor Bögel (1876–1973) (Dietfried Krömer, Manfred Flieger (auth.) etc.) (z-lib.org).pdf',\n",
       " 'Timing breakdown 1@2x.png',\n",
       " 'Kechu Huang_Written Exam #1.docx',\n",
       " '7th Year Funding Request 1.docx',\n",
       " '287247679_10162525543067715_6743572063398128901_n.jpeg',\n",
       " 'week-4-diagnostic-KJT2.ipynb',\n",
       " 'Paper 2 Draft__KT EDIT.docx',\n",
       " 'Katherine Thomson - Dean Dissertation Summary 2022.pdf',\n",
       " 'Katherine Thomson __ Gallatin Course Proposal 2022.doc',\n",
       " '439637_1_En_2_Fig3_HTML.png',\n",
       " 'Untitled.pdf',\n",
       " '~$stract for Chapter 1 - 6.docx',\n",
       " 'dabrowa_kings_countries_ peoples_2018.odt',\n",
       " 'HT-ES.docx',\n",
       " 'csv22none (1).fmwt',\n",
       " 'Mixed Constitutions Recitation 12 - Edited Notes.docx',\n",
       " 'Chapter 1 - 43.docx',\n",
       " 'Abstract for Chapter1.docx',\n",
       " '5e02387282a4ece83bae729514cf0b3c.jpeg',\n",
       " 'Chapter 1 - 42.docx',\n",
       " 'currency-and-control.pdf (1).pdf',\n",
       " 'Katherine Thomson -- Economic Epistemologies Abstract -- Feb 2023.docx',\n",
       " 'KT-ISAWDH23-1.zip',\n",
       " 'VSCode-darwin-universal (2).zip',\n",
       " 'Paper 2 Draft.docx',\n",
       " 'Final Review.docx',\n",
       " \"BTS RM, SUGA, j-hope 'DDAENG (땡)' Lyrics (320 kbps).mp3\",\n",
       " 'show (1).pdf',\n",
       " 'Workshop Presentation Draft 1.pptx',\n",
       " 'Chapter 2 Tributary Empires _ KT cpyedt 1.docx',\n",
       " 'Katherine Thomson Transcript 2022 (1).pdf',\n",
       " 'Second and Third Extra Credit- Textual Analysis Practice.docx',\n",
       " 'GDNA2023-week-12',\n",
       " 'IPCAA Self-Study Report (1).pdf',\n",
       " 'Chapter 1 Introduction __ KT cpyedt 10.docx',\n",
       " 'Diversity Research.docx',\n",
       " 'Timing Breakdown (1).png',\n",
       " 'Katherine Thomson - EE Conference Paper - Second Draft Paper 9.docx',\n",
       " 'The Good of Time.docx',\n",
       " 'Recitation 13 -- Summary Notes (2).docx',\n",
       " 'Monson JRS revisions 1.6 _ Editor Version _ KT cpyedt 12.docx',\n",
       " 'Katherine Thomson - Draft Doctoral Dissertation Research Proposal SUBMIT.docx',\n",
       " 'TRW Readings Scan Weeks 1-8 - Prof Feeney, Roman History .zip',\n",
       " '~$therine Thomson - EE Conference Paper - First Draft Paper Submit (all latin with some english for rod).docx',\n",
       " 'IMG_0658.HEIC',\n",
       " '10.1515_ael-2019-0047.pdf',\n",
       " '~$ 7일-지난 이야기.docx',\n",
       " 'Section outline 1.docx',\n",
       " 'Katherine Thomson _ Economic Epistemologies Abstract _ Feb 2023 SUBMIT.docx',\n",
       " \"Notes for Polyvagal workshop- Jen's portion only.docx\",\n",
       " 'Menendez_Misjudged_Network_Pic_Lock_Discovery_060322__Fact Check Act 1.docx',\n",
       " 'Untitled1.pdf',\n",
       " 'Roman wealth native ritual Coin hoards within and beyond Roman Britain.pdf',\n",
       " 'Katherine Thomson — Funding App 2022.docx',\n",
       " 'Monson JRS revisions 1.6 _ Editor Version _ KT cpyedt 4.docx',\n",
       " 'Tsolakis-Thesis__KT INTRO EDIT.docx',\n",
       " '~$omson Abstract_KJ edits.docx',\n",
       " 'Kechu Huang_Written #3.docx',\n",
       " 'VSCode-darwin-universal.zip',\n",
       " 'lghub_installer.zip',\n",
       " 'TRW Readings Scan Weeks 1-8 - Prof Feeney, Roman History  2.pdf',\n",
       " '2023 RC Service Retreat app - 24MOS - Katherine Thomson.doc',\n",
       " 'Abstract for Chapter 1 - 17.docx',\n",
       " 'IMG_6169.HEIC',\n",
       " 'coins_export_2023_05_01_184227.csv',\n",
       " 'image.png',\n",
       " 'Katherine Thomson - Dean Dissertation Progress Report.pdf',\n",
       " 'Chicago-Police-Star-Magazine-1981-Volume-20-No.-1-January-February HANHARDT REVAMPS CID.pdf',\n",
       " 'Abstract for Chapter 1 - 7.docx',\n",
       " 'KIC Document 0001.pdf',\n",
       " 'Katherine Thomson - EE Conference Paper - Second Draft Paper 11.docx',\n",
       " 'Menendez_Misjudged_Network_Pic_Lock_SNAPS_060322_ND Fact Check (1).docx',\n",
       " 'Katherine Thomson - EE Conference Paper - Second Draft Paper 5.docx',\n",
       " '~$therine Sophocles Paper Submit.docx',\n",
       " 'Recitation 13 -- Summary Notes.docx',\n",
       " 'Chapter 1 Introduction __ KT cpyedt 3.docx',\n",
       " 'IMG_0654.HEIC',\n",
       " 'Katherine Thomson - Dean Dissertation Summary.pdf',\n",
       " '66-127-1-SM.pdf',\n",
       " 'GDNA2023-week-13',\n",
       " 'Adobe Scan Oct 20, 2022 (2).pdf',\n",
       " 'KT Sensory Journal 21_04_2022.docx',\n",
       " 'REST_COIN.csv',\n",
       " 'query (1).csv',\n",
       " 'peter_falk_princess_bride_2011_a_l.webp']"
      ]
     },
     "execution_count": 117,
     "metadata": {},
     "output_type": "execute_result"
    }
   ],
   "source": [
    "import os\n",
    "os.listdir('/Users/katherinethomson/Downloads')"
   ]
  },
  {
   "cell_type": "code",
   "execution_count": 118,
   "metadata": {
    "tags": []
   },
   "outputs": [
    {
     "data": {
      "text/plain": [
       "['Plin_34.txt',\n",
       " 'Plin_35.txt',\n",
       " 'Plin_37.txt',\n",
       " 'Plin_36.txt',\n",
       " 'Plin_33.txt',\n",
       " 'Plin_1.txt']"
      ]
     },
     "execution_count": 118,
     "metadata": {},
     "output_type": "execute_result"
    }
   ],
   "source": [
    "[file for file in os.listdir('/Users/katherinethomson/Downloads') if file.endswith('.txt')]"
   ]
  },
  {
   "cell_type": "markdown",
   "metadata": {},
   "source": [
    "# Don't think glob is working??"
   ]
  },
  {
   "cell_type": "code",
   "execution_count": 119,
   "metadata": {
    "tags": []
   },
   "outputs": [
    {
     "name": "stdout",
     "output_type": "stream",
     "text": [
      "[]\n"
     ]
    }
   ],
   "source": [
    "from glob import glob\n",
    "\n",
    "print(glob('/Users/katherinethomson/Downloads.txt'))"
   ]
  },
  {
   "cell_type": "code",
   "execution_count": 52,
   "metadata": {
    "tags": []
   },
   "outputs": [],
   "source": [
    "# with open('../data/texts/diagnostic/Plin_33.txt', 'r') as f:\n",
    "#    for line in f:\n",
    "#        print(line.strip())"
   ]
  },
  {
   "cell_type": "markdown",
   "metadata": {},
   "source": [
    "## Creating a sorted vocab for each token set"
   ]
  },
  {
   "cell_type": "code",
   "execution_count": 53,
   "metadata": {
    "tags": []
   },
   "outputs": [
    {
     "name": "stdout",
     "output_type": "stream",
     "text": [
      "['!', '(', ')', ',', '.', '1', '10', '100', '101', '102', '103', '104', '105', '106', '107', '108', '109', '11', '110', '111']\n"
     ]
    }
   ],
   "source": [
    "vocab_33 = sorted(set(tokens_33))\n",
    "print(vocab_33[:20])"
   ]
  },
  {
   "cell_type": "code",
   "execution_count": 54,
   "metadata": {
    "tags": []
   },
   "outputs": [
    {
     "name": "stdout",
     "output_type": "stream",
     "text": [
      "['!', ',', '.', '.dicus', '1', '10', '100', '101', '102', '103', '104', '105', '106', '107', '108', '109', '11', '110', '111', '112']\n"
     ]
    }
   ],
   "source": [
    "vocab_34 = sorted(set(tokens_34)) \n",
    "print(vocab_34[:20])"
   ]
  },
  {
   "cell_type": "code",
   "execution_count": 55,
   "metadata": {
    "tags": []
   },
   "outputs": [
    {
     "name": "stdout",
     "output_type": "stream",
     "text": [
      "[',', '.', '1', '10', '100', '101', '101‑105', '102', '103', '104', '105', '106', '107', '107‑110', '108', '109', '10‑11', '10‑13', '10‑29', '11', '110', '111', '112', '113', '114', '115', '116', '117', '118', '119', '11‑12', '11‑13', '12', '120', '12‑13', '12‑32', '13', '13‑14', '13‑15', '14', '14‑15', '14‑37', '14‑40', '15', '15‑16', '15‑20', '16', '16‑19', '16‑23', '17']\n"
     ]
    }
   ],
   "source": [
    "vocab_1 = sorted(set(tokens_1))\n",
    "print(vocab_1[:50])"
   ]
  },
  {
   "cell_type": "markdown",
   "metadata": {},
   "source": [
    "## joining everything together "
   ]
  },
  {
   "cell_type": "code",
   "execution_count": 104,
   "metadata": {
    "tags": []
   },
   "outputs": [],
   "source": [
    "tokenlist = [tokens_1, tokens_33, tokens_34, tokens_35, tokens_36, tokens_37]"
   ]
  },
  {
   "cell_type": "code",
   "execution_count": 105,
   "metadata": {
    "tags": []
   },
   "outputs": [
    {
     "data": {
      "text/plain": [
       "list"
      ]
     },
     "execution_count": 105,
     "metadata": {},
     "output_type": "execute_result"
    }
   ],
   "source": [
    "type(tokenlist)"
   ]
  },
  {
   "cell_type": "code",
   "execution_count": 106,
   "metadata": {
    "tags": []
   },
   "outputs": [
    {
     "data": {
      "text/plain": [
       "6"
      ]
     },
     "execution_count": 106,
     "metadata": {},
     "output_type": "execute_result"
    }
   ],
   "source": [
    "len(tokenlist)"
   ]
  },
  {
   "cell_type": "code",
   "execution_count": 108,
   "metadata": {
    "tags": []
   },
   "outputs": [],
   "source": [
    "token_total = (tokens_1 + tokens_33 + tokens_34 + tokens_35 + tokens_36 + tokens_37)"
   ]
  },
  {
   "cell_type": "code",
   "execution_count": 109,
   "metadata": {
    "tags": []
   },
   "outputs": [
    {
     "data": {
      "text/plain": [
       "85073"
      ]
     },
     "execution_count": 109,
     "metadata": {},
     "output_type": "execute_result"
    }
   ],
   "source": [
    "len(token_total)"
   ]
  },
  {
   "cell_type": "markdown",
   "metadata": {},
   "source": [
    "### accurate length woot! "
   ]
  },
  {
   "cell_type": "code",
   "execution_count": 61,
   "metadata": {
    "tags": []
   },
   "outputs": [],
   "source": [
    "text_token = nltk.Text(token_total)"
   ]
  },
  {
   "cell_type": "code",
   "execution_count": 62,
   "metadata": {
    "tags": []
   },
   "outputs": [
    {
     "name": "stdout",
     "output_type": "stream",
     "text": [
      "quando primum; Sextio Nigro; quo modo; quis primus; Catone censorio;\n",
      "qui item; Alexandro polyhistore; Graece scripsit; Pompeio Lenaeo;\n",
      "Cornelio Nepote; Olympiade Thebana; Petronio Diodoto; qui Graece;\n",
      "Nigro qui; Magonem transtulit; Cornelio Celso; Antonio Castore;\n",
      "EXTERNIS Theophrasto; Antigono Cymaeo; Bione Solense\n"
     ]
    }
   ],
   "source": [
    "text_token.collocations()"
   ]
  },
  {
   "cell_type": "markdown",
   "metadata": {},
   "source": [
    "## Making character sets "
   ]
  },
  {
   "cell_type": "code",
   "execution_count": null,
   "metadata": {},
   "outputs": [],
   "source": []
  },
  {
   "cell_type": "markdown",
   "metadata": {},
   "source": [
    "## Getting the freq dist"
   ]
  },
  {
   "cell_type": "code",
   "execution_count": 63,
   "metadata": {
    "tags": []
   },
   "outputs": [],
   "source": [
    "#fdist = nltk.FreqDist(ch.lower() for ch in raw if ch.isalpha())\n",
    "fdist1 = nltk.FreqDist(word.lower() for word in tokens_1)\n",
    "fdist33 = nltk.FreqDist(word.lower() for word in tokens_33)\n",
    "fdist34 = nltk.FreqDist(word.lower() for word in tokens_34)\n",
    "fdisttot = nltk.FreqDist(word.lower() for word in token_total)"
   ]
  },
  {
   "cell_type": "code",
   "execution_count": 64,
   "metadata": {
    "tags": []
   },
   "outputs": [
    {
     "data": {
      "text/plain": [
       "[('.', 2964),\n",
       " ('de', 697),\n",
       " (',', 439),\n",
       " ('et', 420),\n",
       " ('sive', 384),\n",
       " ('quae', 213),\n",
       " (':', 205),\n",
       " ('i', 202),\n",
       " ('ii', 196),\n",
       " ('ex', 190),\n",
       " ('qui', 163),\n",
       " ('in', 153),\n",
       " ('l.', 151),\n",
       " ('med', 148),\n",
       " ('iii', 146),\n",
       " ('iiii', 120),\n",
       " ('genera', 111),\n",
       " ('quibus', 97),\n",
       " ('v', 88),\n",
       " ('item', 81),\n",
       " ('vi', 75),\n",
       " ('gen.', 69),\n",
       " ('summa', 66),\n",
       " ('seq', 64),\n",
       " ('pr', 63),\n",
       " ('vii', 62),\n",
       " ('viii', 59),\n",
       " ('quando', 55),\n",
       " ('observationes', 51),\n",
       " ('non', 47)]"
      ]
     },
     "execution_count": 64,
     "metadata": {},
     "output_type": "execute_result"
    }
   ],
   "source": [
    "fdist1.most_common(30)"
   ]
  },
  {
   "cell_type": "code",
   "execution_count": 65,
   "metadata": {
    "tags": []
   },
   "outputs": [
    {
     "data": {
      "text/plain": [
       "[(',', 936),\n",
       " ('.', 524),\n",
       " ('in', 297),\n",
       " ('et', 287),\n",
       " ('est', 118),\n",
       " ('ut', 86),\n",
       " (';', 79),\n",
       " ('non', 75),\n",
       " ('ex', 68),\n",
       " ('cum', 67),\n",
       " ('quod', 53),\n",
       " ('ad', 49),\n",
       " ('qui', 45),\n",
       " ('—', 45),\n",
       " ('hoc', 40),\n",
       " ('quae', 40),\n",
       " ('etiam', 39),\n",
       " ('quam', 36),\n",
       " ('auro', 35),\n",
       " ('a', 35),\n",
       " ('vocant', 35),\n",
       " ('id', 34),\n",
       " ('eius', 33),\n",
       " ('iam', 33),\n",
       " ('sed', 33),\n",
       " ('autem', 33),\n",
       " ('quoque', 31),\n",
       " ('ac', 30),\n",
       " ('argenti', 30),\n",
       " ('aurum', 29)]"
      ]
     },
     "execution_count": 65,
     "metadata": {},
     "output_type": "execute_result"
    }
   ],
   "source": [
    "fdist33.most_common(30)"
   ]
  },
  {
   "cell_type": "code",
   "execution_count": 66,
   "metadata": {
    "tags": []
   },
   "outputs": [
    {
     "data": {
      "text/plain": [
       "[(',', 1156),\n",
       " ('.', 579),\n",
       " ('et', 401),\n",
       " ('in', 330),\n",
       " ('est', 130),\n",
       " (';', 94),\n",
       " ('cum', 76),\n",
       " ('ex', 72),\n",
       " ('ut', 60),\n",
       " ('quod', 59),\n",
       " ('quae', 59),\n",
       " ('ad', 57),\n",
       " ('a', 54),\n",
       " ('—', 54),\n",
       " ('qui', 54),\n",
       " ('non', 52),\n",
       " ('quam', 50),\n",
       " ('eius', 44),\n",
       " ('sed', 41),\n",
       " ('fecit', 41),\n",
       " ('hoc', 40),\n",
       " ('autem', 38),\n",
       " ('aeris', 37),\n",
       " ('fit', 35),\n",
       " ('ac', 32),\n",
       " ('quoque', 32),\n",
       " ('aut', 32),\n",
       " ('fuit', 30),\n",
       " ('eo', 30),\n",
       " ('ea', 29)]"
      ]
     },
     "execution_count": 66,
     "metadata": {},
     "output_type": "execute_result"
    }
   ],
   "source": [
    "fdist34.most_common(30)"
   ]
  },
  {
   "cell_type": "code",
   "execution_count": 67,
   "metadata": {
    "tags": []
   },
   "outputs": [
    {
     "data": {
      "text/plain": [
       "[('.', 4067),\n",
       " (',', 2531),\n",
       " ('et', 1108),\n",
       " ('in', 780),\n",
       " ('de', 738),\n",
       " ('sive', 391),\n",
       " ('ex', 330),\n",
       " ('quae', 312),\n",
       " ('qui', 262),\n",
       " ('est', 251),\n",
       " (':', 248),\n",
       " ('ii', 210),\n",
       " ('i', 204),\n",
       " ('l.', 175),\n",
       " ('non', 174),\n",
       " (';', 174),\n",
       " ('iii', 154),\n",
       " ('ut', 148),\n",
       " ('med', 148),\n",
       " ('cum', 146),\n",
       " ('ad', 132),\n",
       " ('quod', 125),\n",
       " ('genera', 124),\n",
       " ('iiii', 124),\n",
       " ('eius', 118),\n",
       " ('quibus', 118),\n",
       " ('item', 113),\n",
       " ('a', 106),\n",
       " ('quam', 102),\n",
       " ('—', 99)]"
      ]
     },
     "execution_count": 67,
     "metadata": {},
     "output_type": "execute_result"
    }
   ],
   "source": [
    "fdisttot.most_common(30)"
   ]
  },
  {
   "cell_type": "code",
   "execution_count": 68,
   "metadata": {
    "tags": []
   },
   "outputs": [
    {
     "data": {
      "text/plain": [
       "nltk.probability.FreqDist"
      ]
     },
     "execution_count": 68,
     "metadata": {},
     "output_type": "execute_result"
    }
   ],
   "source": [
    "type(fdisttot)"
   ]
  },
  {
   "cell_type": "markdown",
   "metadata": {},
   "source": [
    "## tabulate "
   ]
  },
  {
   "cell_type": "code",
   "execution_count": null,
   "metadata": {},
   "outputs": [],
   "source": []
  },
  {
   "cell_type": "code",
   "execution_count": null,
   "metadata": {},
   "outputs": [],
   "source": []
  },
  {
   "cell_type": "code",
   "execution_count": null,
   "metadata": {},
   "outputs": [],
   "source": []
  },
  {
   "cell_type": "markdown",
   "metadata": {},
   "source": [
    "## cond freq dist"
   ]
  },
  {
   "cell_type": "code",
   "execution_count": 111,
   "metadata": {
    "tags": []
   },
   "outputs": [
    {
     "data": {
      "text/plain": [
       "list"
      ]
     },
     "execution_count": 111,
     "metadata": {},
     "output_type": "execute_result"
    }
   ],
   "source": [
    "type(token_total)"
   ]
  },
  {
   "cell_type": "code",
   "execution_count": 112,
   "metadata": {
    "tags": []
   },
   "outputs": [
    {
     "name": "stdout",
     "output_type": "stream",
     "text": [
      "LIBRO II CONTINENTUR 1 An finitus sit mundus et an\n"
     ]
    }
   ],
   "source": [
    "listToStr = ' '.join([str(elem) for elem in token_total])\n",
    " \n",
    "print(listToStr[:50])"
   ]
  },
  {
   "cell_type": "code",
   "execution_count": 113,
   "metadata": {},
   "outputs": [],
   "source": [
    "cfdist = ConditionalFreqDist((len(word), word) for word in word_tokenize(listToStr))"
   ]
  },
  {
   "cell_type": "code",
   "execution_count": 114,
   "metadata": {},
   "outputs": [
    {
     "name": "stdout",
     "output_type": "stream",
     "text": [
      "<ConditionalFreqDist with 17 conditions>\n"
     ]
    }
   ],
   "source": [
    "print(cfdist)"
   ]
  },
  {
   "cell_type": "code",
   "execution_count": 115,
   "metadata": {},
   "outputs": [
    {
     "data": {
      "text/plain": [
       "FreqDist({'est': 689, 'non': 441, 'qui': 394, 'cum': 363, 'sed': 227, 'hoc': 200, 'aut': 196, 'III': 156, 'med': 148, 'quo': 145, ...})"
      ]
     },
     "execution_count": 115,
     "metadata": {},
     "output_type": "execute_result"
    }
   ],
   "source": [
    "cfdist[3]"
   ]
  },
  {
   "cell_type": "code",
   "execution_count": 116,
   "metadata": {},
   "outputs": [
    {
     "data": {
      "text/plain": [
       "0.111075286151862"
      ]
     },
     "execution_count": 116,
     "metadata": {},
     "output_type": "execute_result"
    }
   ],
   "source": [
    "cfdist[3].freq('est')"
   ]
  },
  {
   "cell_type": "code",
   "execution_count": null,
   "metadata": {},
   "outputs": [],
   "source": []
  }
 ],
 "metadata": {
  "kernelspec": {
   "display_name": "Python 3 (ipykernel)",
   "language": "python",
   "name": "python3"
  },
  "language_info": {
   "codemirror_mode": {
    "name": "ipython",
    "version": 3
   },
   "file_extension": ".py",
   "mimetype": "text/x-python",
   "name": "python",
   "nbconvert_exporter": "python",
   "pygments_lexer": "ipython3",
   "version": "3.10.11"
  }
 },
 "nbformat": 4,
 "nbformat_minor": 4
}
