{
 "cells": [
  {
   "cell_type": "markdown",
   "metadata": {
    "id": "TQ2z3vwMnFH_"
   },
   "source": [
    "Katherine Thomson - Week 4 - ISAWDH HOMEWORK "
   ]
  },
  {
   "cell_type": "markdown",
   "metadata": {
    "id": "o9a2mOl7UCFf"
   },
   "source": [
    "GOAL: \n",
    "Display parts of your TEI document using HTML Just as we did in class. The default approach is to show the edition(s), the translation(s), and useful information from the TEI header such as origin. But perhaps your markup is slightly different. That's OK. Show any info from the TEI header and then your text in a way that makes it easier to read than when it's buried in a bunch of pointy brackets. (Which is a terrible way to describe TEI.)\n",
    "\n",
    "Display one or more lists of all the entities of a certain type: all the people, or places, or other aspects within the text that you have marked up. In class, we pulled out persNames. What will you do?\n",
    "It is likely that you'll have to do some work on your XML so that your code can express the aspects of the text that you want to process in Python. See https://tei-c.org/release/doc/tei-p5-doc/de/html/ND.html for ideas.\n",
    "Add in a link to your notebook below.\n",
    "\n",
    "You can re-use the code that we worked on in class. And explore some of the cells at the end of that notebook. Can you get them to work with your data. But do make sure your variable names reflect your work. And add in comments ('#') or text cells that explain how you're proceeding. Use a text cell to put in a brief introduction at the top. It might be useful to put in a text cell at the end that suggests some possible next steps that you might want to pursue.\n",
    "\n",
    "\"Clean up\" your notebook so that it's a nice package. You are once again trying to communicate an aspect of your research or of your interests. This part of the assignment is important. I'll look at each notebook to see how comfortable you have become in combining code, xml, and your own words to present your work."
   ]
  },
  {
   "cell_type": "code",
   "execution_count": null,
   "metadata": {
    "id": "g-xlmVTLUKLJ",
    "vscode": {
     "languageId": "python"
    }
   },
   "outputs": [],
   "source": [
    "# Expressions such as 1+1 . Also, what is a \"cell\" in an iPython/Jupyter notebook?\n",
    "1+1"
   ]
  },
  {
   "cell_type": "code",
   "execution_count": null,
   "metadata": {
    "id": "UGigk1VGUcbg",
    "vscode": {
     "languageId": "python"
    }
   },
   "outputs": [],
   "source": [
    "# Variables and Variable Assignment. Variables persis across cells in a notebook.\n",
    "# When is there output, when not?\n",
    "# You have a fair amount of flexibility in variable names.\n",
    "\n",
    "cheese = 4\n",
    "\n",
    "#print(cheese)\n",
    "half_cheese = cheese / 2\n",
    "print(half_cheese)\n",
    "\n",
    "print(cheese + half_cheese)\n",
    "\n",
    "# print = 2 # this is bad because 'print' is a keyword\n",
    "\n"
   ]
  },
  {
   "cell_type": "code",
   "execution_count": null,
   "metadata": {
    "id": "jsu_U1SvUwPa",
    "vscode": {
     "languageId": "python"
    }
   },
   "outputs": [],
   "source": [
    "# Simple Data Types. String, integers, other numeric types. type() function\n",
    "\n",
    "#int(\"1\") + int(\"20\") + 1\n",
    "type(1)"
   ]
  },
  {
   "cell_type": "code",
   "execution_count": null,
   "metadata": {
    "id": "AXzV3YxNm_1K",
    "vscode": {
     "languageId": "python"
    }
   },
   "outputs": [],
   "source": [
    "# 'add' string (concatenate)\n",
    "\"IMP\" + \" \" + \"DIV\""
   ]
  },
  {
   "cell_type": "code",
   "execution_count": null,
   "metadata": {
    "id": "BEOxp_xHURh_",
    "vscode": {
     "languageId": "python"
    }
   },
   "outputs": [],
   "source": [
    "# built-in functions, 1\n",
    "length_of_name = len(\"Augustus\")\n",
    "print(length_of_name)"
   ]
  },
  {
   "cell_type": "code",
   "execution_count": null,
   "metadata": {
    "id": "eqsYXV7yXPlY",
    "vscode": {
     "languageId": "python"
    }
   },
   "outputs": [],
   "source": [
    "# other built-in functions, 2. Dot notation\n",
    "tmp_var = \"augusta\"\n",
    "\n",
    "new_tmp_var = tmp_var.replace(\"a\",\"A\",1)\n"
   ]
  },
  {
   "cell_type": "code",
   "execution_count": null,
   "metadata": {
    "id": "UUM_9nBRlHdv",
    "vscode": {
     "languageId": "python"
    }
   },
   "outputs": [],
   "source": [
    "# tmp_var hasn't changed!\n",
    "print(\"Old: \" + tmp_var)\n",
    "print(\"New: \" + new_tmp_var)"
   ]
  },
  {
   "cell_type": "code",
   "execution_count": null,
   "metadata": {
    "id": "m04yWJsHgmwb",
    "vscode": {
     "languageId": "python"
    }
   },
   "outputs": [],
   "source": [
    "# Is this jumping ahead too quickly?\n",
    "\n",
    "wiki_page_id = \"Augustus\"\n",
    "print(\"http://en.wikipedia.org/wiki/REPLACEME\".replace(\"REPLACEME\",wiki_page_id))"
   ]
  },
  {
   "cell_type": "code",
   "execution_count": null,
   "metadata": {
    "id": "3XKoI2Rxf2n4",
    "vscode": {
     "languageId": "python"
    }
   },
   "outputs": [],
   "source": [
    "# conditional statements (plus a bit of what python expects from you in terms of indenting lines)\n",
    "\n",
    "if len(\"Augustus\") < 10:\n",
    "  print(\"This is a short name\")\n",
    "  print(\"hi\")\n",
    "else:\n",
    "  print(\"This is a long name.\")\n",
    "  print(\"bo bo bo\")\n",
    "\n",
    "print(\"See above for answer.\")"
   ]
  },
  {
   "cell_type": "code",
   "execution_count": null,
   "metadata": {
    "id": "gAfksnrUApZQ",
    "vscode": {
     "languageId": "python"
    }
   },
   "outputs": [],
   "source": [
    "# quotes - just swap. if you have outer in single quotes but the inner in double, or swap, and the inner one is the one that is then printed\n",
    "print('caesar said \"hello\"')"
   ]
  },
  {
   "cell_type": "code",
   "execution_count": null,
   "metadata": {
    "id": "RvBR92cCjlJN",
    "vscode": {
     "languageId": "python"
    }
   },
   "outputs": [],
   "source": [
    "# lists and loops\n",
    "['Augustus', 'Tiberius', 'Caligula', 'Claudius', 'Nero', 2]"
   ]
  },
  {
   "cell_type": "code",
   "execution_count": null,
   "metadata": {
    "id": "s5z4uNn2GkER",
    "vscode": {
     "languageId": "python"
    }
   },
   "outputs": [],
   "source": [
    "emperors = ['Augustus', 'Tiberius', 'Caligula', 'Claudius', 'Nero', 'Galba', 2]\n",
    "\n"
   ]
  },
  {
   "cell_type": "code",
   "execution_count": null,
   "metadata": {
    "id": "EMEMo-j8GsWO",
    "vscode": {
     "languageId": "python"
    }
   },
   "outputs": [],
   "source": [
    "print(len(emperors))\n",
    "\n",
    "print(emperors[4])\n",
    "\n"
   ]
  },
  {
   "cell_type": "code",
   "execution_count": null,
   "metadata": {
    "id": "TtpqefPGG-J0",
    "vscode": {
     "languageId": "python"
    }
   },
   "outputs": [],
   "source": [
    "print(\"Starting the loop...\")\n",
    "\n",
    "for e in emperors:\n",
    "  print(\"I'm in the loop:\" + str(e))\n",
    "\n",
    "\n",
    "print(\"last value is: \" + str(e))"
   ]
  },
  {
   "cell_type": "markdown",
   "metadata": {
    "id": "ghikZIbgHJfK"
   },
   "source": [
    "# Adding Capabilities to Python\n",
    "\n",
    "We'll first add the ability to read XML (and HTML) documents."
   ]
  },
  {
   "cell_type": "code",
   "execution_count": null,
   "metadata": {
    "id": "A8_t4mIG728g",
    "vscode": {
     "languageId": "python"
    }
   },
   "outputs": [],
   "source": [
    "# https://www.crummy.com/software/BeautifulSoup/bs4/doc/\n",
    "from bs4 import BeautifulSoup"
   ]
  },
  {
   "cell_type": "markdown",
   "metadata": {},
   "source": []
  },
  {
   "cell_type": "code",
   "execution_count": null,
   "metadata": {
    "vscode": {
     "languageId": "python"
    }
   },
   "outputs": [],
   "source": []
  },
  {
   "cell_type": "markdown",
   "metadata": {
    "id": "Q-IoxKFuI7Pq"
   },
   "source": [
    "## Sample/Your XML Document"
   ]
  },
  {
   "cell_type": "code",
   "execution_count": null,
   "metadata": {
    "vscode": {
     "languageId": "python"
    }
   },
   "outputs": [],
   "source": [
    "tei_xml = \"\"\"\n",
    "<?xml version=\"1.0\" encoding=\"UTF-8\"?>\n",
    "<?xml-model href=\"http://epidoc.stoa.org/schema/latest/tei-epidoc.rng\" schematypens=\"http://relaxng.org/ns/structure/1.0\"?>\n",
    "<?xml-model href=\"http://epidoc.stoa.org/schema/latest/tei-epidoc.rng\" schematypens=\"http://purl.oclc.org/dsdl/schematron\"?>\n",
    "<TEI xmlns=\"http://www.tei-c.org/ns/1.0\" xml:space=\"preserve\" xml:lang=\"en\">\n",
    "    <!-- use the EpiDoc Guidelines: https://epidoc.stoa.org/gl/latest/ -->\n",
    "    <teiHeader>\n",
    "        <fileDesc>\n",
    "            <titleStmt>\n",
    "                <title>\n",
    "                <persName role=\"author\">Pliny the Elder</persName> Natural History\n",
    "                </title>\n",
    "            </titleStmt>\n",
    "            <editionStmt>\n",
    "                <edition> Teubner 1933 (1905), 1909, 1892, 1897\n",
    "                </edition>\n",
    "                <respStmt>\n",
    "                <resp>t<persName>Bill Thayer</persName>\n",
    "                <date when=\"2018\">2018</date>\n",
    "                </resp>\n",
    "                <name>LacusCurtius</name>\n",
    "                </respStmt>\n",
    "                </editionStmt>\n",
    "            <publicationStmt>\n",
    "                <publisher>LacusCurtius</publisher>\n",
    "                <availability status=\"free\" n=\"cc-by\"> \n",
    "                <licence target=\"http://creativecommons.org/licenses/by/3.0/\">\n",
    "                <p>Creative Commons Attribution 3.0 Unported (CC BY 3.0)</p>\n",
    "                </licence>\n",
    "                </availability>\n",
    "                <authority>LacusCurtius</authority>\n",
    "                <idno type=\"pliny.xml\"></idno>\n",
    "            </publicationStmt>\n",
    "            <sourceDesc>\n",
    "                <bibl>\n",
    "                    <title level=\"a\">33.31</title>. In <author>Pliny the Elder</author>, <title>Natural History</title>\n",
    "                    <publisher>LacusCurtius</publisher>\n",
    "                    <date>2018</date>\n",
    "                </bibl>\n",
    "            </sourceDesc>\n",
    "        </fileDesc>\n",
    "    </teiHeader>\n",
    "    <facsimile>\n",
    "        <graphic url=\"pliny.png\"/>\n",
    "    </facsimile>\n",
    "    <text>\n",
    "        <body>\n",
    "            <div type=\"edition\" xml:space=\"preserve\">\n",
    "                <ab>\n",
    "                    <lb n=\"1\"/> 33.31 Ab his argenti metalla dicantur,...reperitur in omnibus paene provinciis, sed in Hispania pulcherrimum, id quoque in sterili solo atque etiam montibus, et ubicumque una inventa vena est, non procul invenitur alia. hoc quidem et in omni fere materia, unde metalla Graeci videntur dixisse. mirum, adhuc per Hispanias ab Hannibale inchoatos durare puteos. sua nomina ab inventoribus habent, ex quis Baebelo appellatur hodie, qui CCC pondo Hannibali subministravit in dies, ad MD passus iam cavto monte, per quod spatium Aquitani stantes noctibus diebusque egerunt aquas lucernarum ensura amnemque faciunt.\n",
    "                </ab>\n",
    "            </div>\n",
    "            <div type=\"apparatus\">\n",
    "                <p>external apparatus criticus (if applicable)</p>\n",
    "            </div>\n",
    "            <div type=\"translation\">\n",
    "                <p>33.31 After these details let us speak about the varieties of silver ore... Silver is found in almost all the provinces, but the finest is in Spain, where it, as well as gold, occurs in sterile ground and even in the mountains; and wherever one vein is found another is afterwards found not far away. This indeed also occurs in the case of almost every metal, and accounts it seems for the word metals used by the Greeks. It is a remarkable fact that the shafts initiated by Hannibal all over the Spanish provinces are still in existence; they are named from the persons who discovered them; one of these mines, now called after Baebelo, furnished Hannibal with 300 pounds weight of silver a day, the tunnelling having been carried a mile and a half into the mountain. Along the whole of this distance watermen are posted who all night and day in spells measured by lanterns bale out the water and make a stream.</p>\n",
    "            </div>\n",
    "            <div type=\"commentary\">\n",
    "                <p>LacusCurtius is an online database of Greek and Latin texts. Bill Thayer relied on the Teubner editions, but I decided to attribute publication to him as he undertook to transfer Pliny's Natural History onto an online format. He does not offer a precise date when this occurred, so I included the latest publication update of 2018. I included a leaf of a 12th century manuscript of NH as a visual aid, but did not include any precise manuscript details as the text being used has no simple manuscript attribution.</p>\n",
    "            </div>\n",
    "            <div type=\"bibliography\">\n",
    "                <p>bibliography of previous editions, discussion, etc.</p>\n",
    "            </div>\n",
    "        </body>\n",
    "    </text>\n",
    "</TEI>\n",
    "\"\"\""
   ]
  },
  {
   "cell_type": "code",
   "execution_count": null,
   "metadata": {
    "id": "MpLgks1d8E2A",
    "vscode": {
     "languageId": "python"
    }
   },
   "outputs": [],
   "source": [
    "tei_xml = \"\"\"\n",
    "<?xml version=\"1.0\" encoding=\"UTF-8\"?>\n",
    "<?xml-model href=\"http://epidoc.stoa.org/schema/latest/tei-epidoc.rng\" schematypens=\"http://relaxng.org/ns/structure/1.0\"?>\n",
    "<?xml-model href=\"http://epidoc.stoa.org/schema/latest/tei-epidoc.rng\" schematypens=\"http://purl.oclc.org/dsdl/schematron\"?>\n",
    "<TEI xmlns=\"http://www.tei-c.org/ns/1.0\" xml:space=\"preserve\" xml:lang=\"en\">\n",
    "    <!-- use the EpiDoc Guidelines: https://epidoc.stoa.org/gl/latest/ -->\n",
    "    <teiHeader>\n",
    "        <fileDesc>\n",
    "            <titleStmt>\n",
    "                <title>\n",
    "                <persName role=\"author\">Solinus, Gaius Julis</persName> Polyhistor 23.1-4\n",
    "                </title>\n",
    "            </titleStmt>\n",
    "            <editionStmt>\n",
    "                <edition> Gaius Iulius Solinus, the Polyhistor, translated by Arwen Apps, Gaius Iulius Solinus and his Polyhistor\n",
    "                </edition>\n",
    "                <respStmt>\n",
    "                <resp>ToposText<persName>Arwen Apps</persName>\n",
    "                <date when=\"2011\">2011</date>\n",
    "                </resp>\n",
    "                <name>Aikaterini Laskaridis Foundation</name>\n",
    "                </respStmt>\n",
    "                </editionStmt>\n",
    "            <publicationStmt>\n",
    "                <publisher>Aikaterini Laskaridis Foundation</publisher>\n",
    "                <availability status=\"free\" n=\"cc-by\"> \n",
    "                <licence target=\"http://creativecommons.org/licenses/by/3.0/\">\n",
    "                <p>Creative Commons Attribution 3.0 Unported (CC BY 3.0)</p>\n",
    "                </licence>\n",
    "                </availability>\n",
    "                <authority>Aikaterini Laskaridis Foundation</authority>\n",
    "                <idno type=\"gaius.xml\"></idno>\n",
    "            </publicationStmt>\n",
    "            <sourceDesc>\n",
    "                <bibl>\n",
    "                    <title level=\"a\">23.1-4</title>. In <author>Gaius Julius Solinus</author>, <title>Polyhistor</title>\n",
    "                    <publisher>Macquarie University</publisher>\n",
    "                    <date>2011</date>\n",
    "                </bibl>\n",
    "            </sourceDesc>\n",
    "        </fileDesc>\n",
    "    </teiHeader>\n",
    "    <facsimile>\n",
    "        <graphic url=\"solinus.jpg\"/>\n",
    "    </facsimile>\n",
    "    <text>\n",
    "        <body>\n",
    "            <div type=\"edition\" xml:space=\"preserve\">\n",
    "                <ab>\n",
    "                    <lb n=\"1\"/> XXIII.1 Reuersos ad continentem res Hispanienses uocant. Terrarum plaga conparanda optimis, nulli posthabenda frugis et soli copia, siue uinearum prouentus respicere siue arborarios uelis. 2 Omni materia affluit, quaecumque aut pretio ambitiosa est aut usu necessaria. argentum uel aurum requiras, habet; ferrariis numquam defecit; non cedit uitibus, uincit olea. 3 Diuidua est prouinciis tribus, secundo Punico bello nostra facta. Nihil in ea otiosum, nihil sterile: quicquid cuiuscumque modi negat messem, uiget pabulis; etiam quae arida sunt, ab sterilitate rudentum materias nauticis subministrant. Non coquunt ibi sales, sed effodiunt. 4 Depurgant in minium nitellas pulueris. Fucant uellera, ut ad ruborem merum depotent cocci uenenum.\n",
    "                </ab>\n",
    "            </div>\n",
    "            <div type=\"apparatus\">\n",
    "                <p>external apparatus criticus (if applicable)</p>\n",
    "            </div>\n",
    "            <div type=\"translation\">\n",
    "                <p>23.1 When we turn back towards the continent, Hispanian subjects summon us. Whether you are considering the wealth of the soil and the crops, or the fruit of the vines, the Hispanian tracts of land can be compared with the best, and are subordinate to none. 2  Hispania abounds in all materials — both in splendid riches and in life’s necessities. If you seek silver or gold, Hispania has them; it also has many iron-mines. It yields to none as far as vines are concerned, and its olives conquer all. 3  It is divided into three provinces, which were made ours by the Second Punic War. Nothing in this place is idle, and nothing is fruitless. Those parts which do not give harvests thrive with fodder, and even the barrenness of the arid areas supplies materials for seamen’s ropes. 4  They do not cook salt there, but gouge it out. They purge cinnabar from the shining sand. They dye wool, in order that they may set down for its red colour the undiluted poison of the coccum.</p>\n",
    "            </div>\n",
    "            <div type=\"commentary\">\n",
    "                <p>As I was drawing from an online database that offered open access to the text in both Latin and English, I sought out a manuscript fragment, https://www.e-codices.ch/en/description/bbb/0722-2/Mittenhuber and utilized the available xml file https://www.e-codices.ch/xml/tei_published/bbb-0722-2_Mittenhuber.xml as an example from which to build. As the manuscript has specific provenance, context, and physical characteristics, I forebore from inputting them herein, choosing instead to focus on accurately completing the file desc and the online publisher.</p>\n",
    "            </div>\n",
    "            <div type=\"bibliography\">\n",
    "                <p>bibliography of previous editions, discussion, etc.</p>\n",
    "            </div>\n",
    "        </body>\n",
    "    </text>\n",
    "</TEI>\n",
    "\"\"\""
   ]
  },
  {
   "cell_type": "markdown",
   "metadata": {
    "id": "3vgx_dfqJBDM"
   },
   "source": [
    "## Using Beatiful Soup"
   ]
  },
  {
   "cell_type": "code",
   "execution_count": null,
   "metadata": {
    "id": "DKivqKBq8yer",
    "vscode": {
     "languageId": "python"
    }
   },
   "outputs": [],
   "source": [
    "# create a variable that is a actionable version of the xml\n",
    "soup = BeautifulSoup(tei_xml, 'xml')\n",
    "# type(soup)"
   ]
  },
  {
   "cell_type": "code",
   "execution_count": null,
   "metadata": {
    "id": "vXrTOyjJX3iM",
    "vscode": {
     "languageId": "python"
    }
   },
   "outputs": [],
   "source": [
    "# selecting elements. display the origin'\n",
    "#\n",
    "soup.facsimile.graphic['url'] # only gets the first.\n",
    "# add .text"
   ]
  },
  {
   "cell_type": "code",
   "execution_count": null,
   "metadata": {
    "id": "S0GqSRJTO3dh",
    "vscode": {
     "languageId": "python"
    }
   },
   "outputs": [],
   "source": [
    "# before you execture the cell, figure out what it will print\n",
    "'<i>'+soup.origin.origPlace.text+'</i>'"
   ]
  },
  {
   "cell_type": "code",
   "execution_count": null,
   "metadata": {
    "id": "vnLaqPvUa2gv",
    "vscode": {
     "languageId": "python"
    }
   },
   "outputs": [],
   "source": [
    "# https://ipython.org/ipython-doc/rel-0.13.2/api/generated/IPython.core.display.html\n",
    "from IPython.core.display import HTML\n",
    "HTML('<b>'+soup.origPlace.text+'</b>')\n",
    "\n"
   ]
  },
  {
   "cell_type": "code",
   "execution_count": null,
   "metadata": {
    "id": "OZ_3hkvhPn63",
    "vscode": {
     "languageId": "python"
    }
   },
   "outputs": [],
   "source": [
    "#Simple task:  the above, but bold"
   ]
  },
  {
   "cell_type": "code",
   "execution_count": null,
   "metadata": {
    "id": "KVWjD6nhX6FW",
    "vscode": {
     "languageId": "python"
    }
   },
   "outputs": [],
   "source": [
    "# find an element by attribute value\n",
    "# useful because you don't have to remember the whole hiearchy of elements\n",
    "\n",
    "print(soup.find('div', type=\"translation\").text)"
   ]
  },
  {
   "cell_type": "code",
   "execution_count": null,
   "metadata": {
    "id": "4jwDV-sAUQHc",
    "vscode": {
     "languageId": "python"
    }
   },
   "outputs": [],
   "source": [
    "cheese = soup.find('div', type=\"translation\")\n",
    "cheese\n",
    "\n",
    "#origin in bold, edition in"
   ]
  },
  {
   "cell_type": "code",
   "execution_count": null,
   "metadata": {
    "id": "mhS701UVVqbt",
    "vscode": {
     "languageId": "python"
    }
   },
   "outputs": [],
   "source": [
    "cheese = (soup.find('div', type=\"translation\").text)\n",
    "cheese"
   ]
  },
  {
   "cell_type": "code",
   "execution_count": null,
   "metadata": {
    "id": "tffXgL-KiYjW",
    "vscode": {
     "languageId": "python"
    }
   },
   "outputs": [],
   "source": [
    "# TASK: capture the origin, edition, and translation in variables.\n",
    "# wrap them in html elements  to distinguish the parts of the document (as in p and i, and b)\n",
    "# use the HTML function to display\n",
    "\n",
    "origin = soup.origPlace.text\n",
    "print(origin)\n",
    "\n",
    "edition = soup.find('div', type=\"edition\").text\n",
    "print(edition)\n",
    "\n",
    "translation = soup.find('div', type=\"translation\").text\n",
    "print(translation)\n"
   ]
  },
  {
   "cell_type": "code",
   "execution_count": null,
   "metadata": {
    "id": "NTfbjy5tTTWh",
    "vscode": {
     "languageId": "python"
    }
   },
   "outputs": [],
   "source": [
    "# use this cell for the HTML output\n",
    "HTML('<b>'+origin+'</b>'+'<p>'+translation+'</p>'+'<p><i>'+edition+'</i></p>')"
   ]
  },
  {
   "cell_type": "code",
   "execution_count": null,
   "metadata": {
    "id": "SShyNx0kcVP8",
    "vscode": {
     "languageId": "python"
    }
   },
   "outputs": [],
   "source": [
    "# find all\n",
    "\n",
    "\n",
    "pers_names = soup.find_all('persName')\n",
    "pers_names\n",
    "\n",
    "# type(pers_names)"
   ]
  },
  {
   "cell_type": "code",
   "execution_count": null,
   "metadata": {
    "id": "I_27ktmjYW6r",
    "vscode": {
     "languageId": "python"
    }
   },
   "outputs": [],
   "source": [
    "# TASK PART 1: print out all the persNames one by one? (which contruct from above?)\n",
    "# TASK PART 2: add some html (we'll do this together)\n",
    "\n",
    "print(\"List of Person Names\")\n",
    "for e in soup.find_all('persName'):\n",
    "  print(e.text)\n"
   ]
  },
  {
   "cell_type": "code",
   "execution_count": null,
   "metadata": {
    "id": "H7bIhmoJdeG8",
    "vscode": {
     "languageId": "python"
    }
   },
   "outputs": [],
   "source": [
    "person_list = soup.find_all('persName')\n",
    "person_set = set(person_list)\n",
    "for person in person_set:\n",
    "\n",
    "    print(str(person))"
   ]
  },
  {
   "cell_type": "code",
   "execution_count": null,
   "metadata": {
    "id": "ym47T_97klLs",
    "vscode": {
     "languageId": "python"
    }
   },
   "outputs": [],
   "source": [
    "# variant: find all provenances and print type attributes\n",
    "provs = soup.find_all('provenance')\n",
    "\n",
    "for el in provs:\n",
    "  print(el.attrs['type'] + ': ' + el.text)"
   ]
  },
  {
   "cell_type": "markdown",
   "metadata": {
    "id": "OP_NLthNhanG"
   },
   "source": [
    "## Make lists of words"
   ]
  },
  {
   "cell_type": "code",
   "execution_count": null,
   "metadata": {
    "id": "TnE7tLAFO-OZ",
    "vscode": {
     "languageId": "python"
    }
   },
   "outputs": [],
   "source": [
    "word_list = soup.TEI.find('div',type = 'translation').text.split()\n",
    "word_list"
   ]
  },
  {
   "cell_type": "code",
   "execution_count": null,
   "metadata": {
    "id": "4BXj93LIrsMB",
    "vscode": {
     "languageId": "python"
    }
   },
   "outputs": [],
   "source": [
    "# .text.replace('[','').replace(']','')"
   ]
  },
  {
   "cell_type": "code",
   "execution_count": null,
   "metadata": {
    "id": "YV0SumJnecKC",
    "vscode": {
     "languageId": "python"
    }
   },
   "outputs": [],
   "source": [
    "# word_list"
   ]
  },
  {
   "cell_type": "code",
   "execution_count": null,
   "metadata": {
    "id": "qg2mmMmYYuJo",
    "vscode": {
     "languageId": "python"
    }
   },
   "outputs": [],
   "source": [
    "word_list.sort(key=len, reverse = True)\n",
    "word_list\n",
    "\n"
   ]
  },
  {
   "cell_type": "code",
   "execution_count": null,
   "metadata": {
    "id": "IrX_K70_fH45",
    "vscode": {
     "languageId": "python"
    }
   },
   "outputs": [],
   "source": [
    "# quick way to make word list unique\n",
    "set(word_list)\n"
   ]
  },
  {
   "cell_type": "code",
   "execution_count": null,
   "metadata": {
    "id": "_0RZINHRWdQr",
    "vscode": {
     "languageId": "python"
    }
   },
   "outputs": [],
   "source": [
    "min(word_list, key=len)"
   ]
  },
  {
   "cell_type": "code",
   "execution_count": null,
   "metadata": {
    "id": "SFg3gu1VXQcN",
    "vscode": {
     "languageId": "python"
    }
   },
   "outputs": [],
   "source": [
    "max(word_list, key=len)"
   ]
  },
  {
   "cell_type": "code",
   "execution_count": null,
   "metadata": {
    "id": "iIs5LHQHKUvD",
    "vscode": {
     "languageId": "python"
    }
   },
   "outputs": [],
   "source": [
    "from wordcloud import WordCloud\n",
    "\n",
    "%matplotlib inline"
   ]
  },
  {
   "cell_type": "code",
   "execution_count": null,
   "metadata": {
    "id": "7x3g_yT5Kli_",
    "vscode": {
     "languageId": "python"
    }
   },
   "outputs": [],
   "source": [
    "wordcloud = WordCloud().generate(\" \".join(word_list))\n",
    "\n",
    "# Display the generated image:\n",
    "# the matplotlib way:\n",
    "import matplotlib.pyplot as plt\n",
    "plt.imshow(wordcloud, interpolation='bilinear')\n",
    "plt.axis(\"off\")"
   ]
  },
  {
   "cell_type": "markdown",
   "metadata": {
    "id": "D-7o_J9ONyJK"
   },
   "source": [
    "## Find elements with the @type attribute\n",
    "https://www.stoa.org/epidoc/gl/latest/supp-histfound.html"
   ]
  },
  {
   "cell_type": "code",
   "execution_count": null,
   "metadata": {
    "collapsed": true,
    "id": "_170UL3-Nwya",
    "vscode": {
     "languageId": "python"
    }
   },
   "outputs": [],
   "source": [
    "soup.find_all(type = True)"
   ]
  },
  {
   "cell_type": "markdown",
   "metadata": {
    "id": "cV1VSMCMbWk9"
   },
   "source": [
    "# If your TEI is long. Move it to the end.\n",
    "\n",
    "Evaluate the cell so the xml is in a variable for use up above."
   ]
  },
  {
   "cell_type": "code",
   "execution_count": null,
   "metadata": {
    "id": "LpmXnc4QscF3",
    "vscode": {
     "languageId": "python"
    }
   },
   "outputs": [],
   "source": []
  }
 ],
 "metadata": {
  "colab": {
   "private_outputs": true,
   "provenance": []
  },
  "kernelspec": {
   "display_name": "Python 3 (ipykernel)",
   "language": "python",
   "name": "python3"
  },
  "language_info": {
   "codemirror_mode": {
    "name": "ipython",
    "version": 3
   },
   "file_extension": ".py",
   "mimetype": "text/x-python",
   "name": "python",
   "nbconvert_exporter": "python",
   "pygments_lexer": "ipython3",
   "version": "3.10.13"
  }
 },
 "nbformat": 4,
 "nbformat_minor": 1
}
