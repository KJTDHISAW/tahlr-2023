{
 "cells": [
  {
   "cell_type": "markdown",
   "metadata": {},
   "source": [
    "# TAHLR Week 10: Unsupervised Methods: Topic Modeling and Clustering\n",
    "\n",
    "Code notebook for TAHLR course at ISAW (Fall 2023) based on Albrecht et al. 2022 (Blueprints) Ch. 8: Unsupervised Methods: Topic Modeling and Clustering"
   ]
  },
  {
   "cell_type": "code",
   "execution_count": null,
   "metadata": {},
   "outputs": [],
   "source": [
    "# # Get data from remote location\n",
    "\n",
    "# !mkdir -p ../data/blueprints\n",
    "# !curl -LJO https://github.com/blueprints-for-text-analytics-python/blueprints-text/raw/master/data/un-general-debates/un-general-debates-blueprint.csv.gz --output-dir ../data/blueprints"
   ]
  },
  {
   "cell_type": "code",
   "execution_count": 22,
   "metadata": {
    "tags": []
   },
   "outputs": [],
   "source": [
    "# Imports\n",
    "import nltk\n",
    "import pandas as pd\n",
    "import numpy as np\n",
    "import seaborn as sns\n",
    "sns.set_style(\"darkgrid\")\n",
    "import matplotlib.pyplot as plt\n",
    "%matplotlib inline"
   ]
  },
  {
   "cell_type": "code",
   "execution_count": 23,
   "metadata": {
    "tags": []
   },
   "outputs": [
    {
     "data": {
      "text/html": [
       "<div>\n",
       "<style scoped>\n",
       "    .dataframe tbody tr th:only-of-type {\n",
       "        vertical-align: middle;\n",
       "    }\n",
       "\n",
       "    .dataframe tbody tr th {\n",
       "        vertical-align: top;\n",
       "    }\n",
       "\n",
       "    .dataframe thead th {\n",
       "        text-align: right;\n",
       "    }\n",
       "</style>\n",
       "<table border=\"1\" class=\"dataframe\">\n",
       "  <thead>\n",
       "    <tr style=\"text-align: right;\">\n",
       "      <th></th>\n",
       "      <th>id</th>\n",
       "      <th>author</th>\n",
       "      <th>language</th>\n",
       "      <th>year</th>\n",
       "      <th>genre</th>\n",
       "      <th>sources</th>\n",
       "      <th>contents</th>\n",
       "      <th>text</th>\n",
       "    </tr>\n",
       "  </thead>\n",
       "  <tbody>\n",
       "    <tr>\n",
       "      <th>36</th>\n",
       "      <td>37</td>\n",
       "      <td>Plin_Eld</td>\n",
       "      <td>Latin</td>\n",
       "      <td>76</td>\n",
       "      <td>prose</td>\n",
       "      <td>M. Varrone. actis triumphorum. Maecenate. Iacc...</td>\n",
       "      <td>LIBRO XXXVII CONTINENTUR\\n\\n1\\t\\norigo gemmaru...</td>\n",
       "      <td>Liber XXXVII\\n\\n   \\ni\\t    \\n1\\t\\nUt nihil in...</td>\n",
       "    </tr>\n",
       "    <tr>\n",
       "      <th>16</th>\n",
       "      <td>17</td>\n",
       "      <td>Plin_Eld</td>\n",
       "      <td>Latin</td>\n",
       "      <td>76</td>\n",
       "      <td>prose</td>\n",
       "      <td>Cornelio Nepote. Catone censorio. M. Varrone. ...</td>\n",
       "      <td>LIBRO XVII CONTINENTUR\\n\\nsativarum arborum na...</td>\n",
       "      <td>Liber XVII\\n\\ni\\t\\n1\\t\\nNatura arborum terra m...</td>\n",
       "    </tr>\n",
       "  </tbody>\n",
       "</table>\n",
       "</div>"
      ],
      "text/plain": [
       "    id    author language  year  genre  \\\n",
       "36  37  Plin_Eld    Latin    76  prose   \n",
       "16  17  Plin_Eld    Latin    76  prose   \n",
       "\n",
       "                                              sources  \\\n",
       "36  M. Varrone. actis triumphorum. Maecenate. Iacc...   \n",
       "16  Cornelio Nepote. Catone censorio. M. Varrone. ...   \n",
       "\n",
       "                                             contents  \\\n",
       "36  LIBRO XXXVII CONTINENTUR\\n\\n1\\t\\norigo gemmaru...   \n",
       "16  LIBRO XVII CONTINENTUR\\n\\nsativarum arborum na...   \n",
       "\n",
       "                                                 text  \n",
       "36  Liber XXXVII\\n\\n   \\ni\\t    \\n1\\t\\nUt nihil in...  \n",
       "16  Liber XVII\\n\\ni\\t\\n1\\t\\nNatura arborum terra m...  "
      ]
     },
     "execution_count": 23,
     "metadata": {},
     "output_type": "execute_result"
    }
   ],
   "source": [
    "# Load data\n",
    "\n",
    "file = \"Plin_Datasheet_2.csv\"\n",
    "NH = df = pd.read_csv(file)\n",
    "df.sample(2)"
   ]
  },
  {
   "cell_type": "code",
   "execution_count": 24,
   "metadata": {
    "tags": []
   },
   "outputs": [
    {
     "data": {
      "text/html": [
       "<div>\n",
       "<style scoped>\n",
       "    .dataframe tbody tr th:only-of-type {\n",
       "        vertical-align: middle;\n",
       "    }\n",
       "\n",
       "    .dataframe tbody tr th {\n",
       "        vertical-align: top;\n",
       "    }\n",
       "\n",
       "    .dataframe thead th {\n",
       "        text-align: right;\n",
       "    }\n",
       "</style>\n",
       "<table border=\"1\" class=\"dataframe\">\n",
       "  <thead>\n",
       "    <tr style=\"text-align: right;\">\n",
       "      <th></th>\n",
       "      <th>id</th>\n",
       "      <th>author</th>\n",
       "      <th>language</th>\n",
       "      <th>year</th>\n",
       "      <th>genre</th>\n",
       "      <th>sources</th>\n",
       "      <th>contents</th>\n",
       "      <th>text</th>\n",
       "      <th>token_text</th>\n",
       "      <th>token_sources</th>\n",
       "    </tr>\n",
       "  </thead>\n",
       "  <tbody>\n",
       "    <tr>\n",
       "      <th>0</th>\n",
       "      <td>1</td>\n",
       "      <td>Plin_Eld</td>\n",
       "      <td>Latin</td>\n",
       "      <td>70</td>\n",
       "      <td>prose</td>\n",
       "      <td>NaN</td>\n",
       "      <td>NaN</td>\n",
       "      <td>LIBRO II CONTINENTUR\\n\\n1 \\nAn finitus sit mun...</td>\n",
       "      <td>[LIBRO, II, CONTINENTUR, 1, An, finitus, sit, ...</td>\n",
       "      <td>[nan]</td>\n",
       "    </tr>\n",
       "    <tr>\n",
       "      <th>1</th>\n",
       "      <td>2</td>\n",
       "      <td>Plin_Eld</td>\n",
       "      <td>Latin</td>\n",
       "      <td>71</td>\n",
       "      <td>prose</td>\n",
       "      <td>M. Varrone. Sulpicio Gallo. Tito Caesare Imper...</td>\n",
       "      <td>LIBRO II CONTINENTUR\\n\\n1\\t\\nAn finitus sit mu...</td>\n",
       "      <td>Liber II\\n\\n1\\n  1\\nMundum et hoc quodcumque n...</td>\n",
       "      <td>[Liber, II, 1, 1, Mundum, et, hoc, quodcumque,...</td>\n",
       "      <td>[M., Varrone, ., Sulpicio, Gallo, ., Tito, Cae...</td>\n",
       "    </tr>\n",
       "    <tr>\n",
       "      <th>2</th>\n",
       "      <td>3</td>\n",
       "      <td>Plin_Eld</td>\n",
       "      <td>Latin</td>\n",
       "      <td>72</td>\n",
       "      <td>prose</td>\n",
       "      <td>\\nTurranio Gracile. Cornelio Nepote. T. Livio....</td>\n",
       "      <td>LIBRO III CONTINENTUR\\n\\nsitus, gentes, maria,...</td>\n",
       "      <td>Liber III\\n\\ni \\n1 \\nHactenus de situ et mirac...</td>\n",
       "      <td>[Liber, III, i, 1, Hactenus, de, situ, et, mir...</td>\n",
       "      <td>[Turranio, Gracile, ., Cornelio, Nepote, ., T....</td>\n",
       "    </tr>\n",
       "    <tr>\n",
       "      <th>3</th>\n",
       "      <td>4</td>\n",
       "      <td>Plin_Eld</td>\n",
       "      <td>Latin</td>\n",
       "      <td>73</td>\n",
       "      <td>prose</td>\n",
       "      <td>Catone censorio. M. Varrone. M. Agrippa. Divo ...</td>\n",
       "      <td>LIBRO IV CONTINENTUR\\n\\nsitus, gentes, maria, ...</td>\n",
       "      <td>Liber IV\\n\\ni \\n1 \\nTertius Europae sinus Acro...</td>\n",
       "      <td>[Liber, IV, i, 1, Tertius, Europae, sinus, Acr...</td>\n",
       "      <td>[Catone, censorio, ., M., Varrone, ., M., Agri...</td>\n",
       "    </tr>\n",
       "    <tr>\n",
       "      <th>4</th>\n",
       "      <td>5</td>\n",
       "      <td>Plin_Eld</td>\n",
       "      <td>Latin</td>\n",
       "      <td>74</td>\n",
       "      <td>prose</td>\n",
       "      <td>\\nAgrippa. Suetonio Paulino. M. Varrone. Varro...</td>\n",
       "      <td>LIBRO V CONTINENTUR\\n\\n1\\t\\nMauretaniarum\\n\\n2...</td>\n",
       "      <td>Liber V\\n\\ni \\n1 \\nAfricam Graeci Libyam appel...</td>\n",
       "      <td>[Liber, V, i, 1, Africam, Graeci, Libyam, appe...</td>\n",
       "      <td>[Agrippa, ., Suetonio, Paulino, ., M., Varrone...</td>\n",
       "    </tr>\n",
       "  </tbody>\n",
       "</table>\n",
       "</div>"
      ],
      "text/plain": [
       "   id    author language  year  genre  \\\n",
       "0   1  Plin_Eld    Latin    70  prose   \n",
       "1   2  Plin_Eld    Latin    71  prose   \n",
       "2   3  Plin_Eld    Latin    72  prose   \n",
       "3   4  Plin_Eld    Latin    73  prose   \n",
       "4   5  Plin_Eld    Latin    74  prose   \n",
       "\n",
       "                                             sources  \\\n",
       "0                                                NaN   \n",
       "1  M. Varrone. Sulpicio Gallo. Tito Caesare Imper...   \n",
       "2  \\nTurranio Gracile. Cornelio Nepote. T. Livio....   \n",
       "3  Catone censorio. M. Varrone. M. Agrippa. Divo ...   \n",
       "4  \\nAgrippa. Suetonio Paulino. M. Varrone. Varro...   \n",
       "\n",
       "                                            contents  \\\n",
       "0                                                NaN   \n",
       "1  LIBRO II CONTINENTUR\\n\\n1\\t\\nAn finitus sit mu...   \n",
       "2  LIBRO III CONTINENTUR\\n\\nsitus, gentes, maria,...   \n",
       "3  LIBRO IV CONTINENTUR\\n\\nsitus, gentes, maria, ...   \n",
       "4  LIBRO V CONTINENTUR\\n\\n1\\t\\nMauretaniarum\\n\\n2...   \n",
       "\n",
       "                                                text  \\\n",
       "0  LIBRO II CONTINENTUR\\n\\n1 \\nAn finitus sit mun...   \n",
       "1  Liber II\\n\\n1\\n  1\\nMundum et hoc quodcumque n...   \n",
       "2  Liber III\\n\\ni \\n1 \\nHactenus de situ et mirac...   \n",
       "3  Liber IV\\n\\ni \\n1 \\nTertius Europae sinus Acro...   \n",
       "4  Liber V\\n\\ni \\n1 \\nAfricam Graeci Libyam appel...   \n",
       "\n",
       "                                          token_text  \\\n",
       "0  [LIBRO, II, CONTINENTUR, 1, An, finitus, sit, ...   \n",
       "1  [Liber, II, 1, 1, Mundum, et, hoc, quodcumque,...   \n",
       "2  [Liber, III, i, 1, Hactenus, de, situ, et, mir...   \n",
       "3  [Liber, IV, i, 1, Tertius, Europae, sinus, Acr...   \n",
       "4  [Liber, V, i, 1, Africam, Graeci, Libyam, appe...   \n",
       "\n",
       "                                       token_sources  \n",
       "0                                              [nan]  \n",
       "1  [M., Varrone, ., Sulpicio, Gallo, ., Tito, Cae...  \n",
       "2  [Turranio, Gracile, ., Cornelio, Nepote, ., T....  \n",
       "3  [Catone, censorio, ., M., Varrone, ., M., Agri...  \n",
       "4  [Agrippa, ., Suetonio, Paulino, ., M., Varrone...  "
      ]
     },
     "execution_count": 24,
     "metadata": {},
     "output_type": "execute_result"
    }
   ],
   "source": [
    "df['text'] = df['text'].str.replace(\"\\t\", \" \")\n",
    "df['token_text'] = df['text'].astype(str).apply(lambda row: nltk.word_tokenize(row))\n",
    "df['sources'] = df['sources'].str.replace(\"\\t\", \" \")\n",
    "df['token_sources'] = df['sources'].astype(str).apply(lambda row: nltk.word_tokenize(row))\n",
    "df.head(5)\n"
   ]
  },
  {
   "cell_type": "code",
   "execution_count": 25,
   "metadata": {},
   "outputs": [],
   "source": [
    "# Preprocess data; spec. split into paragraphs\n",
    "\n",
    "import re\n",
    "df[\"paragraphs\"] = df[\"text\"].map(lambda text: re.split('[.?!]\\s*\\n', text))\n",
    "df[\"number_of_paragraphs\"] = df[\"paragraphs\"].map(len)"
   ]
  },
  {
   "cell_type": "code",
   "execution_count": 26,
   "metadata": {},
   "outputs": [
    {
     "data": {
      "text/plain": [
       "<Axes: xlabel='id'>"
      ]
     },
     "execution_count": 26,
     "metadata": {},
     "output_type": "execute_result"
    },
    {
     "data": {
      "image/png": "[encoded data removed]",
      "text/plain": [
       "<Figure size 640x480 with 1 Axes>"
      ]
     },
     "metadata": {},
     "output_type": "display_data"
    }
   ],
   "source": [
    "# Visualize paragraph count\n",
    "\n",
    "NH.groupby('id').agg({'number_of_paragraphs': 'mean'}).plot.bar()"
   ]
  },
  {
   "cell_type": "code",
   "execution_count": 27,
   "metadata": {
    "tags": []
   },
   "outputs": [
    {
     "data": {
      "text/html": [
       "<div>\n",
       "<style scoped>\n",
       "    .dataframe tbody tr th:only-of-type {\n",
       "        vertical-align: middle;\n",
       "    }\n",
       "\n",
       "    .dataframe tbody tr th {\n",
       "        vertical-align: top;\n",
       "    }\n",
       "\n",
       "    .dataframe thead th {\n",
       "        text-align: right;\n",
       "    }\n",
       "</style>\n",
       "<table border=\"1\" class=\"dataframe\">\n",
       "  <thead>\n",
       "    <tr style=\"text-align: right;\">\n",
       "      <th></th>\n",
       "      <th>id</th>\n",
       "      <th>author</th>\n",
       "      <th>language</th>\n",
       "      <th>year</th>\n",
       "      <th>genre</th>\n",
       "      <th>sources</th>\n",
       "      <th>contents</th>\n",
       "      <th>text</th>\n",
       "      <th>token_text</th>\n",
       "      <th>token_sources</th>\n",
       "      <th>paragraphs</th>\n",
       "      <th>number_of_paragraphs</th>\n",
       "    </tr>\n",
       "  </thead>\n",
       "  <tbody>\n",
       "    <tr>\n",
       "      <th>0</th>\n",
       "      <td>1</td>\n",
       "      <td>Plin_Eld</td>\n",
       "      <td>Latin</td>\n",
       "      <td>70</td>\n",
       "      <td>prose</td>\n",
       "      <td>NaN</td>\n",
       "      <td>NaN</td>\n",
       "      <td>LIBRO II CONTINENTUR\\n\\n1 \\nAn finitus sit mun...</td>\n",
       "      <td>[LIBRO, II, CONTINENTUR, 1, An, finitus, sit, ...</td>\n",
       "      <td>[nan]</td>\n",
       "      <td>[LIBRO II CONTINENTUR\\n\\n1 \\nAn finitus sit mu...</td>\n",
       "      <td>46</td>\n",
       "    </tr>\n",
       "    <tr>\n",
       "      <th>1</th>\n",
       "      <td>2</td>\n",
       "      <td>Plin_Eld</td>\n",
       "      <td>Latin</td>\n",
       "      <td>71</td>\n",
       "      <td>prose</td>\n",
       "      <td>M. Varrone. Sulpicio Gallo. Tito Caesare Imper...</td>\n",
       "      <td>LIBRO II CONTINENTUR\\n\\n1\\t\\nAn finitus sit mu...</td>\n",
       "      <td>Liber II\\n\\n1\\n  1\\nMundum et hoc quodcumque n...</td>\n",
       "      <td>[Liber, II, 1, 1, Mundum, et, hoc, quodcumque,...</td>\n",
       "      <td>[M., Varrone, ., Sulpicio, Gallo, ., Tito, Cae...</td>\n",
       "      <td>[Liber II\\n\\n1\\n  1\\nMundum et hoc quodcumque ...</td>\n",
       "      <td>59</td>\n",
       "    </tr>\n",
       "    <tr>\n",
       "      <th>2</th>\n",
       "      <td>3</td>\n",
       "      <td>Plin_Eld</td>\n",
       "      <td>Latin</td>\n",
       "      <td>72</td>\n",
       "      <td>prose</td>\n",
       "      <td>\\nTurranio Gracile. Cornelio Nepote. T. Livio....</td>\n",
       "      <td>LIBRO III CONTINENTUR\\n\\nsitus, gentes, maria,...</td>\n",
       "      <td>Liber III\\n\\ni \\n1 \\nHactenus de situ et mirac...</td>\n",
       "      <td>[Liber, III, i, 1, Hactenus, de, situ, et, mir...</td>\n",
       "      <td>[Turranio, Gracile, ., Cornelio, Nepote, ., T....</td>\n",
       "      <td>[Liber III\\n\\ni \\n1 \\nHactenus de situ et mira...</td>\n",
       "      <td>13</td>\n",
       "    </tr>\n",
       "    <tr>\n",
       "      <th>3</th>\n",
       "      <td>4</td>\n",
       "      <td>Plin_Eld</td>\n",
       "      <td>Latin</td>\n",
       "      <td>73</td>\n",
       "      <td>prose</td>\n",
       "      <td>Catone censorio. M. Varrone. M. Agrippa. Divo ...</td>\n",
       "      <td>LIBRO IV CONTINENTUR\\n\\nsitus, gentes, maria, ...</td>\n",
       "      <td>Liber IV\\n\\ni \\n1 \\nTertius Europae sinus Acro...</td>\n",
       "      <td>[Liber, IV, i, 1, Tertius, Europae, sinus, Acr...</td>\n",
       "      <td>[Catone, censorio, ., M., Varrone, ., M., Agri...</td>\n",
       "      <td>[Liber IV\\n\\ni \\n1 \\nTertius Europae sinus Acr...</td>\n",
       "      <td>68</td>\n",
       "    </tr>\n",
       "    <tr>\n",
       "      <th>4</th>\n",
       "      <td>5</td>\n",
       "      <td>Plin_Eld</td>\n",
       "      <td>Latin</td>\n",
       "      <td>74</td>\n",
       "      <td>prose</td>\n",
       "      <td>\\nAgrippa. Suetonio Paulino. M. Varrone. Varro...</td>\n",
       "      <td>LIBRO V CONTINENTUR\\n\\n1\\t\\nMauretaniarum\\n\\n2...</td>\n",
       "      <td>Liber V\\n\\ni \\n1 \\nAfricam Graeci Libyam appel...</td>\n",
       "      <td>[Liber, V, i, 1, Africam, Graeci, Libyam, appe...</td>\n",
       "      <td>[Agrippa, ., Suetonio, Paulino, ., M., Varrone...</td>\n",
       "      <td>[Liber V\\n\\ni \\n1 \\nAfricam Graeci Libyam appe...</td>\n",
       "      <td>69</td>\n",
       "    </tr>\n",
       "  </tbody>\n",
       "</table>\n",
       "</div>"
      ],
      "text/plain": [
       "   id    author language  year  genre  \\\n",
       "0   1  Plin_Eld    Latin    70  prose   \n",
       "1   2  Plin_Eld    Latin    71  prose   \n",
       "2   3  Plin_Eld    Latin    72  prose   \n",
       "3   4  Plin_Eld    Latin    73  prose   \n",
       "4   5  Plin_Eld    Latin    74  prose   \n",
       "\n",
       "                                             sources  \\\n",
       "0                                                NaN   \n",
       "1  M. Varrone. Sulpicio Gallo. Tito Caesare Imper...   \n",
       "2  \\nTurranio Gracile. Cornelio Nepote. T. Livio....   \n",
       "3  Catone censorio. M. Varrone. M. Agrippa. Divo ...   \n",
       "4  \\nAgrippa. Suetonio Paulino. M. Varrone. Varro...   \n",
       "\n",
       "                                            contents  \\\n",
       "0                                                NaN   \n",
       "1  LIBRO II CONTINENTUR\\n\\n1\\t\\nAn finitus sit mu...   \n",
       "2  LIBRO III CONTINENTUR\\n\\nsitus, gentes, maria,...   \n",
       "3  LIBRO IV CONTINENTUR\\n\\nsitus, gentes, maria, ...   \n",
       "4  LIBRO V CONTINENTUR\\n\\n1\\t\\nMauretaniarum\\n\\n2...   \n",
       "\n",
       "                                                text  \\\n",
       "0  LIBRO II CONTINENTUR\\n\\n1 \\nAn finitus sit mun...   \n",
       "1  Liber II\\n\\n1\\n  1\\nMundum et hoc quodcumque n...   \n",
       "2  Liber III\\n\\ni \\n1 \\nHactenus de situ et mirac...   \n",
       "3  Liber IV\\n\\ni \\n1 \\nTertius Europae sinus Acro...   \n",
       "4  Liber V\\n\\ni \\n1 \\nAfricam Graeci Libyam appel...   \n",
       "\n",
       "                                          token_text  \\\n",
       "0  [LIBRO, II, CONTINENTUR, 1, An, finitus, sit, ...   \n",
       "1  [Liber, II, 1, 1, Mundum, et, hoc, quodcumque,...   \n",
       "2  [Liber, III, i, 1, Hactenus, de, situ, et, mir...   \n",
       "3  [Liber, IV, i, 1, Tertius, Europae, sinus, Acr...   \n",
       "4  [Liber, V, i, 1, Africam, Graeci, Libyam, appe...   \n",
       "\n",
       "                                       token_sources  \\\n",
       "0                                              [nan]   \n",
       "1  [M., Varrone, ., Sulpicio, Gallo, ., Tito, Cae...   \n",
       "2  [Turranio, Gracile, ., Cornelio, Nepote, ., T....   \n",
       "3  [Catone, censorio, ., M., Varrone, ., M., Agri...   \n",
       "4  [Agrippa, ., Suetonio, Paulino, ., M., Varrone...   \n",
       "\n",
       "                                          paragraphs  number_of_paragraphs  \n",
       "0  [LIBRO II CONTINENTUR\\n\\n1 \\nAn finitus sit mu...                    46  \n",
       "1  [Liber II\\n\\n1\\n  1\\nMundum et hoc quodcumque ...                    59  \n",
       "2  [Liber III\\n\\ni \\n1 \\nHactenus de situ et mira...                    13  \n",
       "3  [Liber IV\\n\\ni \\n1 \\nTertius Europae sinus Acr...                    68  \n",
       "4  [Liber V\\n\\ni \\n1 \\nAfricam Graeci Libyam appe...                    69  "
      ]
     },
     "execution_count": 27,
     "metadata": {},
     "output_type": "execute_result"
    }
   ],
   "source": [
    "df.head(5)"
   ]
  },
  {
   "cell_type": "code",
   "execution_count": 35,
   "metadata": {},
   "outputs": [
    {
     "data": {
      "text/plain": [
       "(37, 6215)"
      ]
     },
     "execution_count": 35,
     "metadata": {},
     "output_type": "execute_result"
    }
   ],
   "source": [
    "# Make tf-idf matrix\n",
    "\n",
    "from sklearn.feature_extraction.text import TfidfVectorizer\n",
    "\n",
    "from spacy.lang.en.stop_words import STOP_WORDS as stopwords\n",
    "stopwords = [word for word in stopwords if word.isalpha()]\n",
    "\n",
    "tfidf_text = TfidfVectorizer(stop_words=stopwords, min_df=3, max_df=0.30)\n",
    "vectors_text = tfidf_text.fit_transform(NH['text'])\n",
    "vectors_text.shape"
   ]
  },
  {
   "cell_type": "code",
   "execution_count": 36,
   "metadata": {},
   "outputs": [
    {
     "data": {
      "text/plain": [
       "(2645, 8452)"
      ]
     },
     "execution_count": 36,
     "metadata": {},
     "output_type": "execute_result"
    }
   ],
   "source": [
    "# Flatten the paragraphs keeping the years\n",
    "\n",
    "paragraph_df = pd.DataFrame([{ \"token_text\": paragraph, \"token_sources\": token_sources } \n",
    "                               for paragraphs, token_sources in \\\n",
    "                               zip(df[\"paragraphs\"], df[\"token_sources\"]) \n",
    "                                    for paragraph in paragraphs if paragraph])\n",
    "\n",
    "tfidf_para_vectorizer = TfidfVectorizer(stop_words=stopwords, min_df=3,\n",
    "                                        max_df=0.5)\n",
    "tfidf_para_vectors = tfidf_para_vectorizer.fit_transform(paragraph_df[\"token_text\"])\n",
    "tfidf_para_vectors.shape"
   ]
  },
  {
   "cell_type": "markdown",
   "metadata": {},
   "source": [
    "## Blueprint: Creating a Topic Model for Paragraphs Using NMF"
   ]
  },
  {
   "cell_type": "code",
   "execution_count": 37,
   "metadata": {},
   "outputs": [
    {
     "name": "stderr",
     "output_type": "stream",
     "text": [
      "/srv/conda/envs/notebook/lib/python3.10/site-packages/sklearn/decomposition/_nmf.py:1710: ConvergenceWarning: Maximum number of iterations 200 reached. Increase it to improve convergence.\n",
      "  warnings.warn(\n"
     ]
    }
   ],
   "source": [
    "# Decompose, NMF\n",
    "\n",
    "from sklearn.decomposition import NMF\n",
    "\n",
    "nmf_text_model = NMF(n_components=10, random_state=42)\n",
    "W_text_matrix = nmf_text_model.fit_transform(tfidf_para_vectors)\n",
    "H_text_matrix = nmf_text_model.components_"
   ]
  },
  {
   "cell_type": "code",
   "execution_count": 38,
   "metadata": {},
   "outputs": [],
   "source": [
    "# Helper function for displaying topics\n",
    "\n",
    "def display_topics(model, features, no_top_words=5):\n",
    "    for topic, word_vector in enumerate(model.components_):\n",
    "        total = word_vector.sum()\n",
    "        largest = word_vector.argsort()[::-1] # invert sort order\n",
    "        print(\"\\nTopic %02d\" % topic)\n",
    "        for i in range(0, no_top_words):\n",
    "            print(\"  %s (%2.2f)\" % (features[largest[i]],\n",
    "                  word_vector[largest[i]]*100.0/total))"
   ]
  },
  {
   "cell_type": "code",
   "execution_count": 39,
   "metadata": {},
   "outputs": [
    {
     "name": "stdout",
     "output_type": "stream",
     "text": [
      "\n",
      "Topic 00\n",
      "  est (1.25)\n",
      "  qui (0.94)\n",
      "  ut (0.71)\n",
      "  ex (0.60)\n",
      "  eius (0.56)\n",
      "\n",
      "Topic 01\n",
      "  cum (2.73)\n",
      "  ex (1.06)\n",
      "  melle (0.99)\n",
      "  vino (0.97)\n",
      "  aceto (0.96)\n",
      "\n",
      "Topic 02\n",
      "  ab (1.72)\n",
      "  oppidum (1.70)\n",
      "  ad (1.36)\n",
      "  oppida (1.07)\n",
      "  flumen (0.84)\n",
      "\n",
      "Topic 03\n",
      "  alii (1.31)\n",
      "  vocant (1.17)\n",
      "  foliis (1.04)\n",
      "  radice (0.99)\n",
      "  folia (0.79)\n",
      "\n",
      "Topic 04\n",
      "  de (5.94)\n",
      "  quibus (1.02)\n",
      "  qui (0.66)\n",
      "  causa (0.60)\n",
      "  quis (0.55)\n",
      "\n",
      "Topic 05\n",
      "  non (1.85)\n",
      "  nec (1.20)\n",
      "  quam (0.85)\n",
      "  ut (0.84)\n",
      "  sed (0.80)\n",
      "\n",
      "Topic 06\n",
      "  summa (11.16)\n",
      "  insulae (3.48)\n",
      "  gentes (3.05)\n",
      "  flumina (2.84)\n",
      "  clara (2.77)\n",
      "\n",
      "Topic 07\n",
      "  contra (4.32)\n",
      "  venena (1.14)\n",
      "  vino (1.08)\n",
      "  quoque (0.90)\n",
      "  serpentium (0.86)\n",
      "\n",
      "Topic 08\n",
      "  si (3.45)\n",
      "  aut (1.49)\n",
      "  vel (0.79)\n",
      "  quis (0.58)\n",
      "  quod (0.57)\n",
      "\n",
      "Topic 09\n",
      "  quae (4.20)\n",
      "  sunt (1.38)\n",
      "  ex (0.64)\n",
      "  iis (0.63)\n",
      "  genera (0.61)\n"
     ]
    }
   ],
   "source": [
    "# Display NMF topics\n",
    "\n",
    "display_topics(nmf_text_model, tfidf_para_vectorizer.get_feature_names_out())"
   ]
  },
  {
   "cell_type": "markdown",
   "metadata": {},
   "source": [
    "## Blueprint: Creating a Topic Model for Paragraphs with SVD"
   ]
  },
  {
   "cell_type": "code",
   "execution_count": null,
   "metadata": {},
   "outputs": [],
   "source": [
    "# Decompose, SVD\n",
    "\n",
    "from sklearn.decomposition import TruncatedSVD\n",
    "\n",
    "svd_para_model = TruncatedSVD(n_components = 10, random_state=42)\n",
    "W_svd_para_matrix = svd_para_model.fit_transform(tfidf_para_vectors)\n",
    "H_svd_para_matrix = svd_para_model.components_"
   ]
  },
  {
   "cell_type": "code",
   "execution_count": null,
   "metadata": {},
   "outputs": [],
   "source": [
    "# Display SVD topics\n",
    "\n",
    "display_topics(svd_para_model, tfidf_para_vectorizer.get_feature_names_out())"
   ]
  },
  {
   "cell_type": "markdown",
   "metadata": {},
   "source": [
    "## Blueprint: Creating a Topic Model for Paragraphs with LDA"
   ]
  },
  {
   "cell_type": "code",
   "execution_count": null,
   "metadata": {},
   "outputs": [],
   "source": [
    "paragraph_df.shape"
   ]
  },
  {
   "cell_type": "code",
   "execution_count": null,
   "metadata": {},
   "outputs": [],
   "source": [
    "# Reduce number of paragraphs (because LDA is computationally expensive)\n",
    "\n",
    "paragraph_df = paragraph_df[:50000]\n",
    "\n",
    "tfidf_para_vectorizer = TfidfVectorizer(stop_words=stopwords, min_df=5,\n",
    "                                        max_df=0.7)\n",
    "tfidf_para_vectors = tfidf_para_vectorizer.fit_transform(paragraph_df[\"text\"])\n",
    "tfidf_para_vectors.shape"
   ]
  },
  {
   "cell_type": "code",
   "execution_count": null,
   "metadata": {},
   "outputs": [],
   "source": [
    "#  Work with count vectors\n",
    "\n",
    "from sklearn.feature_extraction.text import CountVectorizer\n",
    "\n",
    "count_para_vectorizer = CountVectorizer(stop_words=stopwords, min_df=5,\n",
    "                        max_df=0.7)\n",
    "count_para_vectors = count_para_vectorizer.fit_transform(paragraph_df[\"text\"])"
   ]
  },
  {
   "cell_type": "code",
   "execution_count": null,
   "metadata": {},
   "outputs": [],
   "source": [
    "# Decompose, lda_para_model; nb: could take a long time\n",
    "\n",
    "from sklearn.decomposition import LatentDirichletAllocation\n",
    "\n",
    "lda_para_model = LatentDirichletAllocation(n_components = 10, random_state=42)\n",
    "W_lda_para_matrix = lda_para_model.fit_transform(count_para_vectors)\n",
    "H_lda_para_matrix = lda_para_model.components_"
   ]
  },
  {
   "cell_type": "code",
   "execution_count": null,
   "metadata": {},
   "outputs": [],
   "source": [
    "display_topics(lda_para_model, tfidf_para_vectorizer.get_feature_names_out())"
   ]
  },
  {
   "cell_type": "code",
   "execution_count": null,
   "metadata": {},
   "outputs": [],
   "source": [
    "# Use pyLDAvis to visualize topics\n",
    "\n",
    "# !pip install pyLDAvis\n",
    "import pyLDAvis.lda_model\n",
    "\n",
    "lda_display = pyLDAvis.lda_model.prepare(lda_para_model, count_para_vectors,\n",
    "                            count_para_vectorizer, sort_topics=False)\n",
    "pyLDAvis.display(lda_display)"
   ]
  },
  {
   "cell_type": "code",
   "execution_count": null,
   "metadata": {},
   "outputs": [],
   "source": [
    "# Visualize topic \"weights\" with word cloud\n",
    "\n",
    "import matplotlib.pyplot as plt\n",
    "from wordcloud import WordCloud\n",
    "\n",
    "def wordcloud_topics(model, features, no_top_words=40):\n",
    "    for topic, words in enumerate(model.components_):\n",
    "        size = {}\n",
    "        largest = words.argsort()[::-1] # invert sort order\n",
    "        for i in range(0, no_top_words):\n",
    "            size[features[largest[i]]] = abs(words[largest[i]])\n",
    "        wc = WordCloud(background_color=\"white\", max_words=100,\n",
    "                       width=960, height=540)\n",
    "        wc.generate_from_frequencies(size)\n",
    "        plt.figure(figsize=(12,12))\n",
    "        plt.imshow(wc, interpolation='bilinear')\n",
    "        plt.axis(\"off\")\n",
    "        # if you don't want to save the topic model, comment the next line\n",
    "        plt.savefig(f'topic{topic}.png')"
   ]
  },
  {
   "cell_type": "code",
   "execution_count": null,
   "metadata": {},
   "outputs": [],
   "source": [
    "wordcloud_topics(lda_para_model, count_para_vectorizer.get_feature_names_out())"
   ]
  },
  {
   "cell_type": "markdown",
   "metadata": {},
   "source": [
    "## Bonus Blueprint: Kmeans clustering w. visualization"
   ]
  },
  {
   "cell_type": "code",
   "execution_count": null,
   "metadata": {},
   "outputs": [],
   "source": [
    "# from https://medium.com/mlearning-ai/text-clustering-with-tf-idf-in-python-c94cd26a31e7\n",
    "\n",
    "# Set up kmeans\n",
    "\n",
    "X = tfidf_para_vectors\n",
    "\n",
    "from sklearn.cluster import KMeans\n",
    "\n",
    "kmeans = KMeans(n_clusters=3, random_state=42)\n",
    "kmeans.fit(X)\n",
    "clusters = kmeans.labels_"
   ]
  },
  {
   "cell_type": "code",
   "execution_count": null,
   "metadata": {},
   "outputs": [],
   "source": [
    "# Reduce dimensions with PCA\n",
    "\n",
    "from sklearn.decomposition import PCA\n",
    "pca = PCA(n_components=2, random_state=42)\n",
    "pca_vecs = pca.fit_transform(X.toarray())\n",
    "x0 = pca_vecs[:, 0]\n",
    "x1 = pca_vecs[:, 1]"
   ]
  },
  {
   "cell_type": "code",
   "execution_count": null,
   "metadata": {},
   "outputs": [],
   "source": [
    "# Update dataframe\n",
    "\n",
    "paragraph_df[\"cluster\"] = clusters\n",
    "paragraph_df[\"x0\"] = x0\n",
    "paragraph_df[\"x1\"] = x1\n",
    "paragraph_df.head()\n"
   ]
  },
  {
   "cell_type": "code",
   "execution_count": null,
   "metadata": {},
   "outputs": [],
   "source": [
    "# Helper function, get top keywords\n",
    "\n",
    "def get_top_keywords(n_terms):\n",
    "    \"\"\"This function returns the keywords for each centroid of the KMeans\"\"\"\n",
    "    df = pd.DataFrame(X.todense()).groupby(clusters).mean() # groups the TF-IDF vector by cluster\n",
    "    terms = tfidf_para_vectorizer.get_feature_names_out() # access tf-idf terms\n",
    "    for i,r in df.iterrows():\n",
    "        print('\\nCluster {}'.format(i))\n",
    "        print(','.join([terms[t] for t in np.argsort(r)[-n_terms:]])) # for each row of the dataframe, find the n terms that have the highest tf idf score\n",
    "            \n",
    "get_top_keywords(10)"
   ]
  },
  {
   "cell_type": "code",
   "execution_count": null,
   "metadata": {},
   "outputs": [],
   "source": [
    "# Map clusters to appropriate labels \n",
    "\n",
    "cluster_map = {0: \"africa\", 1: \"general\", 2: \"china\"}\n",
    "paragraph_df['cluster'] = paragraph_df['cluster'].map(cluster_map)"
   ]
  },
  {
   "cell_type": "code",
   "execution_count": null,
   "metadata": {},
   "outputs": [],
   "source": [
    "# Visualize clusters with Seaborn\n",
    "\n",
    "import seaborn as sns\n",
    "\n",
    "plt.figure(figsize=(12, 7))\n",
    "\n",
    "plt.title(\"TF-IDF + KMeans on UN General Debates\", fontdict={\"fontsize\": 18})\n",
    "\n",
    "plt.xlabel(\"X0\", fontdict={\"fontsize\": 16})\n",
    "plt.ylabel(\"X1\", fontdict={\"fontsize\": 16})\n",
    "\n",
    "sns.scatterplot(data=paragraph_df, x='x0', y='x1', hue='cluster', palette=\"viridis\")\n",
    "plt.show()"
   ]
  }
 ],
 "metadata": {
  "kernelspec": {
   "display_name": "Python 3 (ipykernel)",
   "language": "python",
   "name": "python3"
  },
  "language_info": {
   "codemirror_mode": {
    "name": "ipython",
    "version": 3
   },
   "file_extension": ".py",
   "mimetype": "text/x-python",
   "name": "python",
   "nbconvert_exporter": "python",
   "pygments_lexer": "ipython3",
   "version": "3.10.12"
  }
 },
 "nbformat": 4,
 "nbformat_minor": 4
}
